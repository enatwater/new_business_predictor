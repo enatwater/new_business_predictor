{
 "cells": [
  {
   "cell_type": "code",
   "execution_count": 1,
   "metadata": {},
   "outputs": [
    {
     "data": {
      "text/html": [
       "<style>.container { width:95% !important; }</style>"
      ],
      "text/plain": [
       "<IPython.core.display.HTML object>"
      ]
     },
     "metadata": {},
     "output_type": "display_data"
    }
   ],
   "source": [
    "from IPython.core.display import display, HTML\n",
    "display(HTML(\"<style>.container { width:95% !important; }</style>\"))"
   ]
  },
  {
   "cell_type": "code",
   "execution_count": 2,
   "metadata": {},
   "outputs": [],
   "source": [
    "import io\n",
    "import zipfile\n",
    "import pandas as pd\n",
    "import requests"
   ]
  },
  {
   "cell_type": "markdown",
   "metadata": {},
   "source": [
    "TODO\n",
    "- make a function to access the zipped & nonzipped files? Becuase need to read in as request, then pass to zipfile or pandas.\n",
    "- decide how many years to allow\n",
    "- make a function to clean up column names"
   ]
  },
  {
   "cell_type": "markdown",
   "metadata": {},
   "source": [
    "### Get and format imputs."
   ]
  },
  {
   "cell_type": "code",
   "execution_count": 27,
   "metadata": {},
   "outputs": [],
   "source": [
    "# The 5 user inputs will be\n",
    "\n",
    "year = 2015\n",
    "state_abbr = 'AL' \n",
    "table = 'B00001'\n",
    "geo_unit = 'non_block' # data for block level only or all other geographies.\n",
    "content_type = 'estimate' # retrieve estimates or margins of error."
   ]
  },
  {
   "cell_type": "code",
   "execution_count": 28,
   "metadata": {},
   "outputs": [],
   "source": [
    "# First run the `state_dict` cell below. \n",
    "\n",
    "# Tranform/format arguments\n",
    "\n",
    "year = str(year) # todo: confirm this is needed\n",
    "\n",
    "# standardize formatting\n",
    "state_abbr = state_abbr.lower()\n",
    "\n",
    "# Get geographic level of data to use in data import url\n",
    "\n",
    "# **Laurel** I don't think I've seen code formatted like the if statments below. Usually they're inside of another function. Is this ok?\n",
    "\n",
    "if geo_unit == 'block':\n",
    "    url_geo = 'Tracts_Block_Groups_Only'\n",
    "if geo_unit == 'non_block':\n",
    "    url_geo = 'All_Geographies_Not_Tracts_Block_Groups'\n",
    "\n",
    "# Get full state name. \n",
    "state_name = state_dict[state_abbr]\n",
    "\n",
    "# Get sequence number\n",
    "sequence_table_url = 'http://www2.census.gov/programs-surveys/acs/summary_file/{0}/documentation/user_tools/ACS_5yr_Seq_Table_Number_Lookup.xls'.format(year)\n",
    "sequence_table_df = pd.read_excel(sequence_table_url, dtype=str)\n",
    "\n",
    "# clean up column names\n",
    "sequence_table_df.columns = sequence_table_df.columns.str.replace(' ', '_').str.lower()\n",
    "\n",
    "# find the sequence number of the first occurance of the desired table and left pad it\n",
    "sequence = '{:0>4}'.format(sequence_table_df['sequence_number'].loc[sequence_table_df['table_id'] == table].max())\n"
   ]
  },
  {
   "cell_type": "markdown",
   "metadata": {},
   "source": [
    "### Import raw files"
   ]
  },
  {
   "cell_type": "code",
   "execution_count": 29,
   "metadata": {},
   "outputs": [],
   "source": [
    "# raw data file\n",
    "\n",
    "url = 'https://www2.census.gov/programs-surveys/acs/summary_file/{0}/data/5_year_seq_by_state/{1}/{2}/{3}5{4}{5}000.zip'.\\\n",
    "format(year, state_name, url_geo, year, state_abbr, sequence )\n",
    "\n",
    "results = requests.get(url)\n",
    "\n",
    "zipped = zipfile.ZipFile(io.BytesIO(results.content))\n",
    "\n",
    "for value in content_type:\n",
    "    if content_type == 'margin':\n",
    "        raw_csv = zipped.extract('m{0}5{1}{2}000.txt'.format(year,state_abbr, sequence)) # saves in pwd, unless other is specified\n",
    "        raw_df = pd.read_csv(raw_csv, dtype=str,header=None)\n",
    "    elif content_type == 'estimate':\n",
    "        raw_csv = zipped.extract('e{0}5{1}{2}000.txt'.format(year, state_abbr, sequence))\n",
    "        raw_df = pd.read_csv(raw_csv, dtype=str,header=None)\n",
    "    else:\n",
    "        print('no file') # need this?"
   ]
  },
  {
   "cell_type": "markdown",
   "metadata": {},
   "source": [
    "working: \n",
    "https://www2.census.gov/programs-surveys/acs/summary_file/2015/data/5_year_seq_by_state/Alabama/All_Geographies_Not_Tracts_Block_Groups/20155al0001000.zip"
   ]
  },
  {
   "cell_type": "code",
   "execution_count": null,
   "metadata": {},
   "outputs": [],
   "source": []
  },
  {
   "cell_type": "code",
   "execution_count": null,
   "metadata": {},
   "outputs": [],
   "source": [
    "# Import header file\n",
    "\n",
    "    # 1) download zip file\n",
    "    # 2) extract the file with format 'Seq85.xls'. Will need to drop leading zeros from sequence or make two variables, padded_sequence for the \n",
    "    # url above and unpadded number for this file extraction."
   ]
  },
  {
   "cell_type": "code",
   "execution_count": null,
   "metadata": {},
   "outputs": [],
   "source": [
    "# Import geographic location name file"
   ]
  },
  {
   "cell_type": "markdown",
   "metadata": {},
   "source": [
    "### Append raw data and header files."
   ]
  },
  {
   "cell_type": "code",
   "execution_count": 171,
   "metadata": {},
   "outputs": [],
   "source": [
    "# Change raw_df column names to align with header** column names\n",
    "raw_df.columns = header_df.columns"
   ]
  },
  {
   "cell_type": "code",
   "execution_count": 273,
   "metadata": {},
   "outputs": [],
   "source": []
  },
  {
   "cell_type": "code",
   "execution_count": 21,
   "metadata": {},
   "outputs": [],
   "source": []
  },
  {
   "cell_type": "markdown",
   "metadata": {},
   "source": [
    "### Merge geographic location file."
   ]
  },
  {
   "cell_type": "code",
   "execution_count": null,
   "metadata": {},
   "outputs": [],
   "source": []
  },
  {
   "cell_type": "code",
   "execution_count": 31,
   "metadata": {},
   "outputs": [],
   "source": [
    "state_dict = {\n",
    "'ak':'alaska',\n",
    "'al':'alabama',\n",
    "'ar':'arkansas',\n",
    "'az':'arizona',\n",
    "'ca':'california',\n",
    "'co':'colorado',\n",
    "'ct':'connecticut',\n",
    "'dc':'districtofcolumbia',\n",
    "'de':'delaware',\n",
    "'fl':'florida',\n",
    "'ga':'georgia',\n",
    "'gu':'guam',\n",
    "'hi':'hawaii',\n",
    "'ia':'iowa',\n",
    "'id':'idaho',\n",
    "'il':'illinois',\n",
    "'in':'indiana',\n",
    "'ks':'kansas',\n",
    "'ky':'kentucky',\n",
    "'la':'louisiana',\n",
    "'ma':'massachusetts',\n",
    "'md':'maryland',\n",
    "'me':'maine',\n",
    "'mi':'michigan',\n",
    "'mn':'minnesota',\n",
    "'mo':'missouri',\n",
    "'ms':'mississippi',\n",
    "'mt':'montana',\n",
    "'na':'national',\n",
    "'nc':'northcarolina',\n",
    "'nd':'northdakota',\n",
    "'ne':'nebraska',\n",
    "'nh':'newhampshire',\n",
    "'nj':'newjersey',\n",
    "'nm':'newmexico',\n",
    "'nv':'nevada',\n",
    "'ny':'newyork',\n",
    "'oh':'ohio',\n",
    "'ok':'oklahoma',\n",
    "'or':'oregon',\n",
    "'pa':'pennsylvania',\n",
    "'pr':'puertorico',\n",
    "'ri':'rhodeisland',\n",
    "'sc':'southcarolina',\n",
    "'sd':'southdakota',\n",
    "'tn':'tennessee',\n",
    "'tx':'texas',\n",
    "'ut':'utah',\n",
    "'va':'virginia',\n",
    "'vi':'virginislands',\n",
    "'vt':'vermont',\n",
    "'wa':'washington',\n",
    "'wi':'wisconsin',\n",
    "'wv':'westvirginia',\n",
    "'wy':'wyoming' \n",
    "}"
   ]
  },
  {
   "cell_type": "code",
   "execution_count": null,
   "metadata": {},
   "outputs": [],
   "source": []
  },
  {
   "cell_type": "code",
   "execution_count": null,
   "metadata": {},
   "outputs": [],
   "source": []
  }
 ],
 "metadata": {
  "kernelspec": {
   "display_name": "Python 3",
   "language": "python",
   "name": "python3"
  },
  "language_info": {
   "codemirror_mode": {
    "name": "ipython",
    "version": 3
   },
   "file_extension": ".py",
   "mimetype": "text/x-python",
   "name": "python",
   "nbconvert_exporter": "python",
   "pygments_lexer": "ipython3",
   "version": "3.6.5"
  }
 },
 "nbformat": 4,
 "nbformat_minor": 2
}
