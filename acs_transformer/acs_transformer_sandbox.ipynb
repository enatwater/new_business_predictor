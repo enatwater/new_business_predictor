{
 "cells": [
  {
   "cell_type": "code",
   "execution_count": 1,
   "metadata": {},
   "outputs": [
    {
     "data": {
      "text/html": [
       "<style>.container { width:95% !important; }</style>"
      ],
      "text/plain": [
       "<IPython.core.display.HTML object>"
      ]
     },
     "metadata": {},
     "output_type": "display_data"
    }
   ],
   "source": [
    "from IPython.core.display import display, HTML\n",
    "display(HTML(\"<style>.container { width:95% !important; }</style>\"))"
   ]
  },
  {
   "cell_type": "code",
   "execution_count": 222,
   "metadata": {},
   "outputs": [],
   "source": [
    "import re"
   ]
  },
  {
   "cell_type": "code",
   "execution_count": 526,
   "metadata": {},
   "outputs": [],
   "source": [
    "import io\n",
    "import zipfile\n",
    "import pandas as pd\n",
    "import requests"
   ]
  },
  {
   "cell_type": "markdown",
   "metadata": {},
   "source": [
    "TODO\n",
    "\n",
    "Mandatory\n",
    "- decide how many years to allow\n",
    "- raise value error if geo_unit entry is not acceptable\n",
    "- select the column where table-specific data begins. It's the thumber\n",
    "    - sequence_table_df['start_position'].loc[sequence_table_df['table_id'] == table].max()\n",
    "    - then select columns [0:6], plus the table columns\n",
    "\n",
    "Optional\n",
    "- make a function to access the zipped & nonzipped files? Becuase need to read in as request, then pass to zipfile or pandas.\n",
    "- make a function to clean up column names"
   ]
  },
  {
   "cell_type": "markdown",
   "metadata": {},
   "source": [
    "### Get and format imputs."
   ]
  },
  {
   "cell_type": "code",
   "execution_count": 538,
   "metadata": {},
   "outputs": [],
   "source": [
    "# The 5 user inputs will be\n",
    "\n",
    "year = 2015\n",
    "state_abbr = 'AL' \n",
    "table = 'b00002'\n",
    "geo_unit = 'non_block' # data for block level only or all other geographies. Alternate: 'block'\n",
    "content_type = 'estimate' # retrieve estimates or margins of error. Alternate: 'margin' "
   ]
  },
  {
   "cell_type": "code",
   "execution_count": 539,
   "metadata": {},
   "outputs": [],
   "source": [
    "# First run the `state_dict` cell below. \n",
    "\n",
    "# Tranform/format arguments\n",
    "\n",
    "year = str(year) # todo: confirm this is needed\n",
    "\n",
    "# standardize formatting\n",
    "state_abbr_upper = state_abbr.upper() # uppercase used in geographic call later\n",
    "state_abbr = state_abbr.lower()\n",
    "\n",
    "table = table.upper()\n",
    "\n",
    "# Get geographic level of data to use in data import url\n",
    "\n",
    "# **Laurel** I don't think I've seen code formatted like the if statments below. Usually they're inside of another function. Is this ok?\n",
    "\n",
    "if geo_unit == 'block':\n",
    "    url_geo_unit = 'Tracts_Block_Groups_Only'\n",
    "if geo_unit == 'non_block':\n",
    "    url_geo_unit = 'All_Geographies_Not_Tracts_Block_Groups'\n",
    "\n",
    "\n",
    "# Get full state name. \n",
    "state_name = state_dict[state_abbr]\n",
    "\n",
    "# Get sequence number\n",
    "sequence_table_url = 'http://www2.census.gov/programs-surveys/acs/summary_file/{0}/documentation/user_tools/ACS_5yr_Seq_Table_Number_Lookup.xls'.format(year)\n",
    "sequence_table_df = pd.read_excel(sequence_table_url, dtype=str)\n",
    "\n",
    "# clean up column names\n",
    "sequence_table_df.columns = sequence_table_df.columns.str.replace(' ', '_').str.lower()\n",
    "\n",
    "# find the sequence number of the first occurance of the desired table and left pad it\n",
    "sequence = sequence_table_df['sequence_number'].loc[sequence_table_df['table_id'] == table].max()\n",
    "\n",
    "padded_sequence = '{:0>4}'.format(sequence_table_df['sequence_number'].loc[sequence_table_df['table_id'] == table].max())\n"
   ]
  },
  {
   "cell_type": "code",
   "execution_count": 577,
   "metadata": {},
   "outputs": [
    {
     "data": {
      "text/plain": [
       "'1'"
      ]
     },
     "execution_count": 577,
     "metadata": {},
     "output_type": "execute_result"
    }
   ],
   "source": [
    "sequence"
   ]
  },
  {
   "cell_type": "code",
   "execution_count": 584,
   "metadata": {},
   "outputs": [],
   "source": [
    "# Get the number of columns at the beginning of the dataframe that are common to all tables in the df.\n",
    "# ** Laurel **\n",
    "    # Why does .min() work here rather than .max()? See df head below.\n",
    "\n",
    "# The first table column, so core columns are that number minus 2\n",
    "\n",
    "# Harcoding for now b/c last common column always seems to be 6\n",
    "last_common_column = 5 \n",
    "#last_common_column = int(sequence_table_df['start_position'].loc[sequence_table_df['table_id'] == table].min()) - 2"
   ]
  },
  {
   "cell_type": "code",
   "execution_count": 579,
   "metadata": {},
   "outputs": [
    {
     "data": {
      "text/plain": [
       "7"
      ]
     },
     "execution_count": 579,
     "metadata": {},
     "output_type": "execute_result"
    }
   ],
   "source": [
    "last_common_column"
   ]
  },
  {
   "cell_type": "markdown",
   "metadata": {},
   "source": [
    "### Import raw files"
   ]
  },
  {
   "cell_type": "code",
   "execution_count": 541,
   "metadata": {},
   "outputs": [],
   "source": [
    "# raw data file\n",
    "# https://stackoverflow.com/questions/9419162/download-returned-zip-file-from-url/14260592\n",
    "\n",
    "#working: 'https://www2.census.gov/programs-surveys/acs/summary_file/2015/data/5_year_seq_by_state/Alabama/All_Geographies_Not_Tracts_Block_Groups/20155al0002000.zip'\n",
    "url = 'https://www2.census.gov/programs-surveys/acs/summary_file/{0}/data/5_year_seq_by_state/{1}/{2}/{0}5{3}{4}000.zip'.\\\n",
    "format(year, state_name, url_geo_unit, state_abbr,padded_sequence)\n",
    "\n",
    "results = requests.get(url)\n",
    "# raise status?\n",
    "\n",
    "zipped = zipfile.ZipFile(io.BytesIO(results.content))\n",
    "\n",
    "for value in content_type:\n",
    "    if content_type == 'margin':\n",
    "        raw_csv = zipped.extract('m{0}5{1}{2}000.txt'.format(year,state_abbr, padded_sequence)) # saves in pwd, unless other is specified\n",
    "        raw_df = pd.read_csv(raw_csv, dtype=str,header=None)\n",
    "    elif content_type == 'estimate':\n",
    "        raw_csv = zipped.extract('e{0}5{1}{2}000.txt'.format(year, state_abbr, padded_sequence))\n",
    "        raw_df = pd.read_csv(raw_csv, dtype=str,header=None)\n",
    "    else:\n",
    "        print('no file') # need this?\n",
    "\n",
    "zipped.close()"
   ]
  },
  {
   "cell_type": "code",
   "execution_count": 542,
   "metadata": {},
   "outputs": [],
   "source": [
    "# Header file\n"
   ]
  },
  {
   "cell_type": "code",
   "execution_count": 543,
   "metadata": {},
   "outputs": [],
   "source": [
    "# Import header file\n",
    "\n",
    "    # 1) download zip file here, e.g.: #https://www2.census.gov/programs-surveys/acs/summary_file/2015/data/2015_5yr_Summary_FileTemplates.zip?#\n",
    "\n",
    "    # 2) extract the file with format 'Seq{0}.xls'.format(sequence|)\n",
    "        # select estimate or margin of error tab\n",
    "    # url above and unpadded number for this file extraction."
   ]
  },
  {
   "cell_type": "code",
   "execution_count": 544,
   "metadata": {},
   "outputs": [],
   "source": [
    "# ** Laurel **\n",
    "# Should I not reuse the same variables?\n",
    "\n",
    "url = 'https://www2.census.gov/programs-surveys/acs/summary_file/{0}/data/{0}_5yr_Summary_FileTemplates.zip'.format(year)\n",
    "results = requests.get(url)\n",
    "\n",
    "zipped = zipfile.ZipFile(io.BytesIO(results.content))\n",
    "header_excel = zipped.extract('Seq{0}.xls'.format(sequence))\n",
    "\n",
    "header_df = pd.read_excel(header_excel, dtype=str)\n",
    "\n",
    "zipped.close()"
   ]
  },
  {
   "cell_type": "code",
   "execution_count": 545,
   "metadata": {},
   "outputs": [
    {
     "data": {
      "text/plain": [
       "Index(['FILEID', 'FILETYPE', 'STUSAB', 'CHARITER', 'SEQUENCE', 'LOGRECNO',\n",
       "       'B00001_001', 'B00002_001'],\n",
       "      dtype='object')"
      ]
     },
     "execution_count": 545,
     "metadata": {},
     "output_type": "execute_result"
    }
   ],
   "source": [
    "header_df.columns"
   ]
  },
  {
   "cell_type": "code",
   "execution_count": 547,
   "metadata": {},
   "outputs": [
    {
     "name": "stdout",
     "output_type": "stream",
     "text": [
      "CPU times: user 41.6 s, sys: 514 ms, total: 42.1 s\n",
      "Wall time: 47.4 s\n"
     ]
    }
   ],
   "source": [
    "%%time\n",
    "#https://www2.census.gov/programs-surveys/acs/summary_file/2015/documentation/geography/5_year_Mini_Geo.xlsx\n",
    "# Runtime issue - around 1 min\n",
    "# I could keep this in the final repo if it would help\n",
    "geo_df = pd.read_excel('https://www2.census.gov/programs-surveys/acs/summary_file/{0}/documentation/geography/5_year_Mini_Geo.xlsx'.format(year),\n",
    "              sheet_name = state_abbr_upper, \n",
    "              dtype=str)"
   ]
  },
  {
   "cell_type": "code",
   "execution_count": 548,
   "metadata": {},
   "outputs": [
    {
     "data": {
      "text/html": [
       "<div>\n",
       "<style scoped>\n",
       "    .dataframe tbody tr th:only-of-type {\n",
       "        vertical-align: middle;\n",
       "    }\n",
       "\n",
       "    .dataframe tbody tr th {\n",
       "        vertical-align: top;\n",
       "    }\n",
       "\n",
       "    .dataframe thead th {\n",
       "        text-align: right;\n",
       "    }\n",
       "</style>\n",
       "<table border=\"1\" class=\"dataframe\">\n",
       "  <thead>\n",
       "    <tr style=\"text-align: right;\">\n",
       "      <th></th>\n",
       "      <th>STATE</th>\n",
       "      <th>LOGRECNO</th>\n",
       "      <th>GEOID</th>\n",
       "      <th>Name</th>\n",
       "    </tr>\n",
       "  </thead>\n",
       "  <tbody>\n",
       "    <tr>\n",
       "      <th>5370</th>\n",
       "      <td>AL</td>\n",
       "      <td>0005371</td>\n",
       "      <td>15000US010970037103</td>\n",
       "      <td>Block Group 3, Census Tract 37.10, Mobile Coun...</td>\n",
       "    </tr>\n",
       "    <tr>\n",
       "      <th>2868</th>\n",
       "      <td>AL</td>\n",
       "      <td>0002869</td>\n",
       "      <td>14000US01125010303</td>\n",
       "      <td>Census Tract 103.03, Tuscaloosa County, Alabama</td>\n",
       "    </tr>\n",
       "    <tr>\n",
       "      <th>3829</th>\n",
       "      <td>AL</td>\n",
       "      <td>0003830</td>\n",
       "      <td>15000US010550003003</td>\n",
       "      <td>Block Group 3, Census Tract 3, Etowah County, ...</td>\n",
       "    </tr>\n",
       "    <tr>\n",
       "      <th>5339</th>\n",
       "      <td>AL</td>\n",
       "      <td>0005340</td>\n",
       "      <td>15000US010970034082</td>\n",
       "      <td>Block Group 2, Census Tract 34.08, Mobile Coun...</td>\n",
       "    </tr>\n",
       "    <tr>\n",
       "      <th>7065</th>\n",
       "      <td>AL</td>\n",
       "      <td>0007066</td>\n",
       "      <td>16000US0107672</td>\n",
       "      <td>Blue Springs town, Alabama</td>\n",
       "    </tr>\n",
       "  </tbody>\n",
       "</table>\n",
       "</div>"
      ],
      "text/plain": [
       "     STATE LOGRECNO                GEOID  \\\n",
       "5370    AL  0005371  15000US010970037103   \n",
       "2868    AL  0002869   14000US01125010303   \n",
       "3829    AL  0003830  15000US010550003003   \n",
       "5339    AL  0005340  15000US010970034082   \n",
       "7065    AL  0007066       16000US0107672   \n",
       "\n",
       "                                                   Name  \n",
       "5370  Block Group 3, Census Tract 37.10, Mobile Coun...  \n",
       "2868    Census Tract 103.03, Tuscaloosa County, Alabama  \n",
       "3829  Block Group 3, Census Tract 3, Etowah County, ...  \n",
       "5339  Block Group 2, Census Tract 34.08, Mobile Coun...  \n",
       "7065                         Blue Springs town, Alabama  "
      ]
     },
     "execution_count": 548,
     "metadata": {},
     "output_type": "execute_result"
    }
   ],
   "source": [
    "geo_df.sample(5)"
   ]
  },
  {
   "cell_type": "markdown",
   "metadata": {},
   "source": [
    "### Append raw data and header files."
   ]
  },
  {
   "cell_type": "code",
   "execution_count": 551,
   "metadata": {},
   "outputs": [],
   "source": [
    "# Change raw_df column names to align with header_df column names\n",
    "raw_df.columns = header_df.columns"
   ]
  },
  {
   "cell_type": "code",
   "execution_count": 552,
   "metadata": {},
   "outputs": [
    {
     "data": {
      "text/html": [
       "<div>\n",
       "<style scoped>\n",
       "    .dataframe tbody tr th:only-of-type {\n",
       "        vertical-align: middle;\n",
       "    }\n",
       "\n",
       "    .dataframe tbody tr th {\n",
       "        vertical-align: top;\n",
       "    }\n",
       "\n",
       "    .dataframe thead th {\n",
       "        text-align: right;\n",
       "    }\n",
       "</style>\n",
       "<table border=\"1\" class=\"dataframe\">\n",
       "  <thead>\n",
       "    <tr style=\"text-align: right;\">\n",
       "      <th></th>\n",
       "      <th>FILEID</th>\n",
       "      <th>FILETYPE</th>\n",
       "      <th>STUSAB</th>\n",
       "      <th>CHARITER</th>\n",
       "      <th>SEQUENCE</th>\n",
       "      <th>LOGRECNO</th>\n",
       "      <th>B00001_001</th>\n",
       "      <th>B00002_001</th>\n",
       "    </tr>\n",
       "  </thead>\n",
       "  <tbody>\n",
       "    <tr>\n",
       "      <th>0</th>\n",
       "      <td>FILEID</td>\n",
       "      <td>FILETYPE</td>\n",
       "      <td>STUSAB</td>\n",
       "      <td>CHARITER</td>\n",
       "      <td>SEQUENCE</td>\n",
       "      <td>LOGRECNO</td>\n",
       "      <td>UNWEIGHTED SAMPLE COUNT OF THE POPULATION for ...</td>\n",
       "      <td>UNWEIGHTED SAMPLE HOUSING UNITS for Universe: ...</td>\n",
       "    </tr>\n",
       "  </tbody>\n",
       "</table>\n",
       "</div>"
      ],
      "text/plain": [
       "   FILEID  FILETYPE  STUSAB  CHARITER  SEQUENCE  LOGRECNO  \\\n",
       "0  FILEID  FILETYPE  STUSAB  CHARITER  SEQUENCE  LOGRECNO   \n",
       "\n",
       "                                          B00001_001  \\\n",
       "0  UNWEIGHTED SAMPLE COUNT OF THE POPULATION for ...   \n",
       "\n",
       "                                          B00002_001  \n",
       "0  UNWEIGHTED SAMPLE HOUSING UNITS for Universe: ...  "
      ]
     },
     "execution_count": 552,
     "metadata": {},
     "output_type": "execute_result"
    }
   ],
   "source": [
    "header_df.head()"
   ]
  },
  {
   "cell_type": "code",
   "execution_count": 583,
   "metadata": {},
   "outputs": [
    {
     "data": {
      "text/html": [
       "<div>\n",
       "<style scoped>\n",
       "    .dataframe tbody tr th:only-of-type {\n",
       "        vertical-align: middle;\n",
       "    }\n",
       "\n",
       "    .dataframe tbody tr th {\n",
       "        vertical-align: top;\n",
       "    }\n",
       "\n",
       "    .dataframe thead th {\n",
       "        text-align: right;\n",
       "    }\n",
       "</style>\n",
       "<table border=\"1\" class=\"dataframe\">\n",
       "  <thead>\n",
       "    <tr style=\"text-align: right;\">\n",
       "      <th></th>\n",
       "      <th>FILEID</th>\n",
       "      <th>FILETYPE</th>\n",
       "      <th>STUSAB</th>\n",
       "      <th>CHARITER</th>\n",
       "      <th>SEQUENCE</th>\n",
       "      <th>LOGRECNO</th>\n",
       "      <th>B00001_001</th>\n",
       "      <th>B00002_001</th>\n",
       "    </tr>\n",
       "  </thead>\n",
       "  <tbody>\n",
       "    <tr>\n",
       "      <th>0</th>\n",
       "      <td>ACSSF</td>\n",
       "      <td>2015e5</td>\n",
       "      <td>al</td>\n",
       "      <td>000</td>\n",
       "      <td>0001</td>\n",
       "      <td>0000001</td>\n",
       "      <td>408374</td>\n",
       "      <td>186794</td>\n",
       "    </tr>\n",
       "    <tr>\n",
       "      <th>1</th>\n",
       "      <td>ACSSF</td>\n",
       "      <td>2015e5</td>\n",
       "      <td>al</td>\n",
       "      <td>000</td>\n",
       "      <td>0001</td>\n",
       "      <td>0000002</td>\n",
       "      <td>227181</td>\n",
       "      <td>101113</td>\n",
       "    </tr>\n",
       "  </tbody>\n",
       "</table>\n",
       "</div>"
      ],
      "text/plain": [
       "  FILEID FILETYPE STUSAB CHARITER SEQUENCE LOGRECNO B00001_001 B00002_001\n",
       "0  ACSSF   2015e5     al      000     0001  0000001     408374     186794\n",
       "1  ACSSF   2015e5     al      000     0001  0000002     227181     101113"
      ]
     },
     "execution_count": 583,
     "metadata": {},
     "output_type": "execute_result"
    }
   ],
   "source": [
    "raw_df.head(2)"
   ]
  },
  {
   "cell_type": "code",
   "execution_count": 554,
   "metadata": {},
   "outputs": [],
   "source": [
    "joined_df = header_df.append(raw_df)"
   ]
  },
  {
   "cell_type": "code",
   "execution_count": 555,
   "metadata": {},
   "outputs": [],
   "source": [
    "# Reindex becasue line above results in 2 rows with index 0\n",
    "joined_df = joined_df.reset_index(drop=True)"
   ]
  },
  {
   "cell_type": "markdown",
   "metadata": {},
   "source": [
    "### Select the requested table's columns"
   ]
  },
  {
   "cell_type": "code",
   "execution_count": 556,
   "metadata": {},
   "outputs": [],
   "source": [
    "# select common columns + table columns\n",
    "# ** Laurel ** : best to do in two steps for clarity or one for brevity?\n",
    "# replace column names with first row.\n",
    "# delete table and universe text from column names. "
   ]
  },
  {
   "cell_type": "code",
   "execution_count": 580,
   "metadata": {},
   "outputs": [
    {
     "data": {
      "text/plain": [
       "7"
      ]
     },
     "execution_count": 580,
     "metadata": {},
     "output_type": "execute_result"
    }
   ],
   "source": [
    "last_common_column"
   ]
  },
  {
   "cell_type": "code",
   "execution_count": 581,
   "metadata": {},
   "outputs": [],
   "source": [
    "# Select the columns that all tables in the df have in common\n",
    "common_df = joined_df.iloc[:, 0: last_common_column]"
   ]
  },
  {
   "cell_type": "code",
   "execution_count": 558,
   "metadata": {},
   "outputs": [],
   "source": [
    "# select the columns for the table to be returned\n",
    "table_df = joined_df.loc[:, joined_df.columns.str.startswith('{0}_'.format(table))]"
   ]
  },
  {
   "cell_type": "code",
   "execution_count": 582,
   "metadata": {},
   "outputs": [
    {
     "data": {
      "text/html": [
       "<div>\n",
       "<style scoped>\n",
       "    .dataframe tbody tr th:only-of-type {\n",
       "        vertical-align: middle;\n",
       "    }\n",
       "\n",
       "    .dataframe tbody tr th {\n",
       "        vertical-align: top;\n",
       "    }\n",
       "\n",
       "    .dataframe thead th {\n",
       "        text-align: right;\n",
       "    }\n",
       "</style>\n",
       "<table border=\"1\" class=\"dataframe\">\n",
       "  <thead>\n",
       "    <tr style=\"text-align: right;\">\n",
       "      <th></th>\n",
       "      <th>FILEID</th>\n",
       "      <th>FILETYPE</th>\n",
       "      <th>STUSAB</th>\n",
       "      <th>CHARITER</th>\n",
       "      <th>SEQUENCE</th>\n",
       "      <th>LOGRECNO</th>\n",
       "      <th>B00001_001</th>\n",
       "    </tr>\n",
       "  </thead>\n",
       "  <tbody>\n",
       "    <tr>\n",
       "      <th>0</th>\n",
       "      <td>FILEID</td>\n",
       "      <td>FILETYPE</td>\n",
       "      <td>STUSAB</td>\n",
       "      <td>CHARITER</td>\n",
       "      <td>SEQUENCE</td>\n",
       "      <td>LOGRECNO</td>\n",
       "      <td>UNWEIGHTED SAMPLE COUNT OF THE POPULATION for ...</td>\n",
       "    </tr>\n",
       "    <tr>\n",
       "      <th>1</th>\n",
       "      <td>ACSSF</td>\n",
       "      <td>2015e5</td>\n",
       "      <td>al</td>\n",
       "      <td>000</td>\n",
       "      <td>0001</td>\n",
       "      <td>0000001</td>\n",
       "      <td>408374</td>\n",
       "    </tr>\n",
       "    <tr>\n",
       "      <th>2</th>\n",
       "      <td>ACSSF</td>\n",
       "      <td>2015e5</td>\n",
       "      <td>al</td>\n",
       "      <td>000</td>\n",
       "      <td>0001</td>\n",
       "      <td>0000002</td>\n",
       "      <td>227181</td>\n",
       "    </tr>\n",
       "    <tr>\n",
       "      <th>3</th>\n",
       "      <td>ACSSF</td>\n",
       "      <td>2015e5</td>\n",
       "      <td>al</td>\n",
       "      <td>000</td>\n",
       "      <td>0001</td>\n",
       "      <td>0000003</td>\n",
       "      <td>181193</td>\n",
       "    </tr>\n",
       "    <tr>\n",
       "      <th>4</th>\n",
       "      <td>ACSSF</td>\n",
       "      <td>2015e5</td>\n",
       "      <td>al</td>\n",
       "      <td>000</td>\n",
       "      <td>0001</td>\n",
       "      <td>0000004</td>\n",
       "      <td>347141</td>\n",
       "    </tr>\n",
       "  </tbody>\n",
       "</table>\n",
       "</div>"
      ],
      "text/plain": [
       "   FILEID  FILETYPE  STUSAB  CHARITER  SEQUENCE  LOGRECNO  \\\n",
       "0  FILEID  FILETYPE  STUSAB  CHARITER  SEQUENCE  LOGRECNO   \n",
       "1   ACSSF    2015e5      al       000      0001   0000001   \n",
       "2   ACSSF    2015e5      al       000      0001   0000002   \n",
       "3   ACSSF    2015e5      al       000      0001   0000003   \n",
       "4   ACSSF    2015e5      al       000      0001   0000004   \n",
       "\n",
       "                                          B00001_001  \n",
       "0  UNWEIGHTED SAMPLE COUNT OF THE POPULATION for ...  \n",
       "1                                             408374  \n",
       "2                                             227181  \n",
       "3                                             181193  \n",
       "4                                             347141  "
      ]
     },
     "execution_count": 582,
     "metadata": {},
     "output_type": "execute_result"
    }
   ],
   "source": [
    "common_df.head()"
   ]
  },
  {
   "cell_type": "code",
   "execution_count": 559,
   "metadata": {},
   "outputs": [],
   "source": [
    "# Final data columns\n",
    "df = pd.concat([common_df, table_df],axis=1)"
   ]
  },
  {
   "cell_type": "code",
   "execution_count": 560,
   "metadata": {},
   "outputs": [],
   "source": [
    "#df.head()"
   ]
  },
  {
   "cell_type": "code",
   "execution_count": 561,
   "metadata": {},
   "outputs": [],
   "source": [
    "# replace column names with first row.\n",
    "df.columns = df.iloc[0]\n",
    "df.drop([0], inplace = True)"
   ]
  },
  {
   "cell_type": "code",
   "execution_count": 562,
   "metadata": {},
   "outputs": [],
   "source": [
    "# Clean up table column names by removing everything before the `sequence_table_df` universe field\n",
    "# todo: whats up with the %s?"
   ]
  },
  {
   "cell_type": "code",
   "execution_count": 563,
   "metadata": {},
   "outputs": [],
   "source": [
    "# regex pattern \n",
    "    # any character to the start of the line. \n",
    "# what to do with it \n",
    "universe = (sequence_table_df['table_title'].loc[(sequence_table_df['table_id'] == table) & \\\n",
    "                                        (sequence_table_df['start_position'] == 'nan') & \\\n",
    "                                        (sequence_table_df['line_number'] == 'nan')]).to_string(index=False)\n",
    "# line, start are null? second record? \n",
    "#(sequence_table_df.line_number.isna) & (sequence_table_df.start_position.isna) & \n",
    "#sequence_table_df['sequence_number'].loc[sequence_table_df['table_id'] == table].max()"
   ]
  },
  {
   "cell_type": "code",
   "execution_count": 564,
   "metadata": {},
   "outputs": [],
   "source": [
    "df.columns = df.columns.str.replace(r'^.*{0}'.format(universe),'', regex=True)"
   ]
  },
  {
   "cell_type": "markdown",
   "metadata": {},
   "source": [
    "### Merge geographic location file.\n",
    "Merge on LOGRECNO\n",
    "Optional: drop state column"
   ]
  },
  {
   "cell_type": "code",
   "execution_count": 565,
   "metadata": {},
   "outputs": [],
   "source": [
    "df = df.merge(geo_df, on='LOGRECNO', how='left')\n"
   ]
  },
  {
   "cell_type": "code",
   "execution_count": 567,
   "metadata": {},
   "outputs": [
    {
     "data": {
      "text/html": [
       "<div>\n",
       "<style scoped>\n",
       "    .dataframe tbody tr th:only-of-type {\n",
       "        vertical-align: middle;\n",
       "    }\n",
       "\n",
       "    .dataframe tbody tr th {\n",
       "        vertical-align: top;\n",
       "    }\n",
       "\n",
       "    .dataframe thead th {\n",
       "        text-align: right;\n",
       "    }\n",
       "</style>\n",
       "<table border=\"1\" class=\"dataframe\">\n",
       "  <thead>\n",
       "    <tr style=\"text-align: right;\">\n",
       "      <th></th>\n",
       "      <th>FILEID</th>\n",
       "      <th>FILETYPE</th>\n",
       "      <th>STUSAB</th>\n",
       "      <th>CHARITER</th>\n",
       "      <th>SEQUENCE</th>\n",
       "      <th>LOGRECNO</th>\n",
       "      <th>UNWEIGHTED SAMPLE COUNT OF THE POPULATION for Universe:  Total Population% Total</th>\n",
       "      <th>% Total</th>\n",
       "      <th>STATE</th>\n",
       "      <th>GEOID</th>\n",
       "      <th>Name</th>\n",
       "    </tr>\n",
       "  </thead>\n",
       "  <tbody>\n",
       "    <tr>\n",
       "      <th>0</th>\n",
       "      <td>ACSSF</td>\n",
       "      <td>2015e5</td>\n",
       "      <td>al</td>\n",
       "      <td>000</td>\n",
       "      <td>0001</td>\n",
       "      <td>0000001</td>\n",
       "      <td>408374</td>\n",
       "      <td>186794</td>\n",
       "      <td>AL</td>\n",
       "      <td>04000US01</td>\n",
       "      <td>Alabama</td>\n",
       "    </tr>\n",
       "    <tr>\n",
       "      <th>1</th>\n",
       "      <td>ACSSF</td>\n",
       "      <td>2015e5</td>\n",
       "      <td>al</td>\n",
       "      <td>000</td>\n",
       "      <td>0001</td>\n",
       "      <td>0000002</td>\n",
       "      <td>227181</td>\n",
       "      <td>101113</td>\n",
       "      <td>AL</td>\n",
       "      <td>04001US01</td>\n",
       "      <td>Alabama -- Urban</td>\n",
       "    </tr>\n",
       "    <tr>\n",
       "      <th>2</th>\n",
       "      <td>ACSSF</td>\n",
       "      <td>2015e5</td>\n",
       "      <td>al</td>\n",
       "      <td>000</td>\n",
       "      <td>0001</td>\n",
       "      <td>0000003</td>\n",
       "      <td>181193</td>\n",
       "      <td>85681</td>\n",
       "      <td>AL</td>\n",
       "      <td>04043US01</td>\n",
       "      <td>Alabama -- Rural</td>\n",
       "    </tr>\n",
       "    <tr>\n",
       "      <th>3</th>\n",
       "      <td>ACSSF</td>\n",
       "      <td>2015e5</td>\n",
       "      <td>al</td>\n",
       "      <td>000</td>\n",
       "      <td>0001</td>\n",
       "      <td>0000004</td>\n",
       "      <td>347141</td>\n",
       "      <td>156521</td>\n",
       "      <td>AL</td>\n",
       "      <td>040A0US01</td>\n",
       "      <td>Alabama -- In metropolitan or micropolitan sta...</td>\n",
       "    </tr>\n",
       "    <tr>\n",
       "      <th>4</th>\n",
       "      <td>ACSSF</td>\n",
       "      <td>2015e5</td>\n",
       "      <td>al</td>\n",
       "      <td>000</td>\n",
       "      <td>0001</td>\n",
       "      <td>0000005</td>\n",
       "      <td>291673</td>\n",
       "      <td>130477</td>\n",
       "      <td>AL</td>\n",
       "      <td>040C0US01</td>\n",
       "      <td>Alabama -- In metropolitan statistical area</td>\n",
       "    </tr>\n",
       "  </tbody>\n",
       "</table>\n",
       "</div>"
      ],
      "text/plain": [
       "  FILEID FILETYPE STUSAB CHARITER SEQUENCE LOGRECNO  \\\n",
       "0  ACSSF   2015e5     al      000     0001  0000001   \n",
       "1  ACSSF   2015e5     al      000     0001  0000002   \n",
       "2  ACSSF   2015e5     al      000     0001  0000003   \n",
       "3  ACSSF   2015e5     al      000     0001  0000004   \n",
       "4  ACSSF   2015e5     al      000     0001  0000005   \n",
       "\n",
       "  UNWEIGHTED SAMPLE COUNT OF THE POPULATION for Universe:  Total Population% Total  \\\n",
       "0                                             408374                                 \n",
       "1                                             227181                                 \n",
       "2                                             181193                                 \n",
       "3                                             347141                                 \n",
       "4                                             291673                                 \n",
       "\n",
       "  % Total STATE      GEOID                                               Name  \n",
       "0  186794    AL  04000US01                                            Alabama  \n",
       "1  101113    AL  04001US01                                   Alabama -- Urban  \n",
       "2   85681    AL  04043US01                                   Alabama -- Rural  \n",
       "3  156521    AL  040A0US01  Alabama -- In metropolitan or micropolitan sta...  \n",
       "4  130477    AL  040C0US01        Alabama -- In metropolitan statistical area  "
      ]
     },
     "execution_count": 567,
     "metadata": {},
     "output_type": "execute_result"
    }
   ],
   "source": [
    "df.head()"
   ]
  },
  {
   "cell_type": "code",
   "execution_count": 499,
   "metadata": {},
   "outputs": [],
   "source": [
    "# move the geographic columns back to the end of the common columns. 3 columns\n",
    "# move -1:-3 ?) and insert after at last common column - 1\n",
    "# last_common_column = 6 \n"
   ]
  },
  {
   "cell_type": "code",
   "execution_count": 500,
   "metadata": {},
   "outputs": [],
   "source": [
    "geo_cols = [df.iloc[:,-1], df.iloc[:,-2]]"
   ]
  },
  {
   "cell_type": "code",
   "execution_count": 501,
   "metadata": {},
   "outputs": [],
   "source": [
    "df.drop(df.columns[[-1,-2,-3]], axis=1, inplace=True)"
   ]
  },
  {
   "cell_type": "code",
   "execution_count": 502,
   "metadata": {},
   "outputs": [
    {
     "data": {
      "text/html": [
       "<div>\n",
       "<style scoped>\n",
       "    .dataframe tbody tr th:only-of-type {\n",
       "        vertical-align: middle;\n",
       "    }\n",
       "\n",
       "    .dataframe tbody tr th {\n",
       "        vertical-align: top;\n",
       "    }\n",
       "\n",
       "    .dataframe thead th {\n",
       "        text-align: right;\n",
       "    }\n",
       "</style>\n",
       "<table border=\"1\" class=\"dataframe\">\n",
       "  <thead>\n",
       "    <tr style=\"text-align: right;\">\n",
       "      <th></th>\n",
       "      <th>FILEID</th>\n",
       "      <th>FILETYPE</th>\n",
       "      <th>STUSAB</th>\n",
       "      <th>CHARITER</th>\n",
       "      <th>SEQUENCE</th>\n",
       "      <th>LOGRECNO</th>\n",
       "      <th>% Total</th>\n",
       "    </tr>\n",
       "  </thead>\n",
       "  <tbody>\n",
       "    <tr>\n",
       "      <th>0</th>\n",
       "      <td>ACSSF</td>\n",
       "      <td>2015e5</td>\n",
       "      <td>al</td>\n",
       "      <td>000</td>\n",
       "      <td>0001</td>\n",
       "      <td>0000001</td>\n",
       "      <td>408374</td>\n",
       "    </tr>\n",
       "    <tr>\n",
       "      <th>1</th>\n",
       "      <td>ACSSF</td>\n",
       "      <td>2015e5</td>\n",
       "      <td>al</td>\n",
       "      <td>000</td>\n",
       "      <td>0001</td>\n",
       "      <td>0000002</td>\n",
       "      <td>227181</td>\n",
       "    </tr>\n",
       "    <tr>\n",
       "      <th>2</th>\n",
       "      <td>ACSSF</td>\n",
       "      <td>2015e5</td>\n",
       "      <td>al</td>\n",
       "      <td>000</td>\n",
       "      <td>0001</td>\n",
       "      <td>0000003</td>\n",
       "      <td>181193</td>\n",
       "    </tr>\n",
       "    <tr>\n",
       "      <th>3</th>\n",
       "      <td>ACSSF</td>\n",
       "      <td>2015e5</td>\n",
       "      <td>al</td>\n",
       "      <td>000</td>\n",
       "      <td>0001</td>\n",
       "      <td>0000004</td>\n",
       "      <td>347141</td>\n",
       "    </tr>\n",
       "    <tr>\n",
       "      <th>4</th>\n",
       "      <td>ACSSF</td>\n",
       "      <td>2015e5</td>\n",
       "      <td>al</td>\n",
       "      <td>000</td>\n",
       "      <td>0001</td>\n",
       "      <td>0000005</td>\n",
       "      <td>291673</td>\n",
       "    </tr>\n",
       "  </tbody>\n",
       "</table>\n",
       "</div>"
      ],
      "text/plain": [
       "  FILEID FILETYPE STUSAB CHARITER SEQUENCE LOGRECNO % Total\n",
       "0  ACSSF   2015e5     al      000     0001  0000001  408374\n",
       "1  ACSSF   2015e5     al      000     0001  0000002  227181\n",
       "2  ACSSF   2015e5     al      000     0001  0000003  181193\n",
       "3  ACSSF   2015e5     al      000     0001  0000004  347141\n",
       "4  ACSSF   2015e5     al      000     0001  0000005  291673"
      ]
     },
     "execution_count": 502,
     "metadata": {},
     "output_type": "execute_result"
    }
   ],
   "source": [
    "df.head()"
   ]
  },
  {
   "cell_type": "code",
   "execution_count": 503,
   "metadata": {},
   "outputs": [],
   "source": [
    "# for each element in the list of geo column series, insert it into postion 6, or last common column\n",
    "for i in geo_cols:\n",
    "    df.insert(last_common_column, i.name, i, allow_duplicates=True)"
   ]
  },
  {
   "cell_type": "code",
   "execution_count": 504,
   "metadata": {},
   "outputs": [
    {
     "data": {
      "text/html": [
       "<div>\n",
       "<style scoped>\n",
       "    .dataframe tbody tr th:only-of-type {\n",
       "        vertical-align: middle;\n",
       "    }\n",
       "\n",
       "    .dataframe tbody tr th {\n",
       "        vertical-align: top;\n",
       "    }\n",
       "\n",
       "    .dataframe thead th {\n",
       "        text-align: right;\n",
       "    }\n",
       "</style>\n",
       "<table border=\"1\" class=\"dataframe\">\n",
       "  <thead>\n",
       "    <tr style=\"text-align: right;\">\n",
       "      <th></th>\n",
       "      <th>FILEID</th>\n",
       "      <th>FILETYPE</th>\n",
       "      <th>STUSAB</th>\n",
       "      <th>CHARITER</th>\n",
       "      <th>SEQUENCE</th>\n",
       "      <th>LOGRECNO</th>\n",
       "      <th>GEOID</th>\n",
       "      <th>Name</th>\n",
       "      <th>% Total</th>\n",
       "    </tr>\n",
       "  </thead>\n",
       "  <tbody>\n",
       "    <tr>\n",
       "      <th>0</th>\n",
       "      <td>ACSSF</td>\n",
       "      <td>2015e5</td>\n",
       "      <td>al</td>\n",
       "      <td>000</td>\n",
       "      <td>0001</td>\n",
       "      <td>0000001</td>\n",
       "      <td>04000US01</td>\n",
       "      <td>Alabama</td>\n",
       "      <td>408374</td>\n",
       "    </tr>\n",
       "    <tr>\n",
       "      <th>1</th>\n",
       "      <td>ACSSF</td>\n",
       "      <td>2015e5</td>\n",
       "      <td>al</td>\n",
       "      <td>000</td>\n",
       "      <td>0001</td>\n",
       "      <td>0000002</td>\n",
       "      <td>04001US01</td>\n",
       "      <td>Alabama -- Urban</td>\n",
       "      <td>227181</td>\n",
       "    </tr>\n",
       "    <tr>\n",
       "      <th>2</th>\n",
       "      <td>ACSSF</td>\n",
       "      <td>2015e5</td>\n",
       "      <td>al</td>\n",
       "      <td>000</td>\n",
       "      <td>0001</td>\n",
       "      <td>0000003</td>\n",
       "      <td>04043US01</td>\n",
       "      <td>Alabama -- Rural</td>\n",
       "      <td>181193</td>\n",
       "    </tr>\n",
       "    <tr>\n",
       "      <th>3</th>\n",
       "      <td>ACSSF</td>\n",
       "      <td>2015e5</td>\n",
       "      <td>al</td>\n",
       "      <td>000</td>\n",
       "      <td>0001</td>\n",
       "      <td>0000004</td>\n",
       "      <td>040A0US01</td>\n",
       "      <td>Alabama -- In metropolitan or micropolitan sta...</td>\n",
       "      <td>347141</td>\n",
       "    </tr>\n",
       "    <tr>\n",
       "      <th>4</th>\n",
       "      <td>ACSSF</td>\n",
       "      <td>2015e5</td>\n",
       "      <td>al</td>\n",
       "      <td>000</td>\n",
       "      <td>0001</td>\n",
       "      <td>0000005</td>\n",
       "      <td>040C0US01</td>\n",
       "      <td>Alabama -- In metropolitan statistical area</td>\n",
       "      <td>291673</td>\n",
       "    </tr>\n",
       "  </tbody>\n",
       "</table>\n",
       "</div>"
      ],
      "text/plain": [
       "  FILEID FILETYPE STUSAB CHARITER SEQUENCE LOGRECNO      GEOID  \\\n",
       "0  ACSSF   2015e5     al      000     0001  0000001  04000US01   \n",
       "1  ACSSF   2015e5     al      000     0001  0000002  04001US01   \n",
       "2  ACSSF   2015e5     al      000     0001  0000003  04043US01   \n",
       "3  ACSSF   2015e5     al      000     0001  0000004  040A0US01   \n",
       "4  ACSSF   2015e5     al      000     0001  0000005  040C0US01   \n",
       "\n",
       "                                                Name % Total  \n",
       "0                                            Alabama  408374  \n",
       "1                                   Alabama -- Urban  227181  \n",
       "2                                   Alabama -- Rural  181193  \n",
       "3  Alabama -- In metropolitan or micropolitan sta...  347141  \n",
       "4        Alabama -- In metropolitan statistical area  291673  "
      ]
     },
     "execution_count": 504,
     "metadata": {},
     "output_type": "execute_result"
    }
   ],
   "source": [
    "df.head()"
   ]
  },
  {
   "cell_type": "code",
   "execution_count": null,
   "metadata": {},
   "outputs": [],
   "source": [
    "# Clean columns"
   ]
  },
  {
   "cell_type": "code",
   "execution_count": 511,
   "metadata": {},
   "outputs": [
    {
     "data": {
      "text/plain": [
       "Index(['fileid', 'filetype', 'stusab', 'chariter', 'sequence', 'logrecno',\n",
       "       'geoid', 'name', 'percent_total'],\n",
       "      dtype='object')"
      ]
     },
     "execution_count": 511,
     "metadata": {},
     "output_type": "execute_result"
    }
   ],
   "source": [
    "df.columns.str.replace(' ','_')\\\n",
    "          .str.replace('%' , 'percent')\\\n",
    "          .str.replace('(' , '_')\\\n",
    "          .str.replace (')' , '_')\\\n",
    "          .str.lower()"
   ]
  },
  {
   "cell_type": "code",
   "execution_count": 515,
   "metadata": {},
   "outputs": [
    {
     "ename": "SyntaxError",
     "evalue": "can't assign to operator (<ipython-input-515-a861c5a8a6df>, line 1)",
     "output_type": "error",
     "traceback": [
      "\u001b[0;36m  File \u001b[0;32m\"<ipython-input-515-a861c5a8a6df>\"\u001b[0;36m, line \u001b[0;32m1\u001b[0m\n\u001b[0;31m    table_id +'_'+state_name = df.copy()\u001b[0m\n\u001b[0m                                        ^\u001b[0m\n\u001b[0;31mSyntaxError\u001b[0m\u001b[0;31m:\u001b[0m can't assign to operator\n"
     ]
    }
   ],
   "source": [
    "table_id +'_'+state_name = df.copy()"
   ]
  },
  {
   "cell_type": "code",
   "execution_count": 517,
   "metadata": {},
   "outputs": [],
   "source": [
    "new_name = table +'_'+state_name"
   ]
  },
  {
   "cell_type": "code",
   "execution_count": 523,
   "metadata": {},
   "outputs": [
    {
     "ename": "AttributeError",
     "evalue": "module 'pandas' has no attribute 'name'",
     "output_type": "error",
     "traceback": [
      "\u001b[0;31m---------------------------------------------------------------------------\u001b[0m",
      "\u001b[0;31mAttributeError\u001b[0m                            Traceback (most recent call last)",
      "\u001b[0;32m<ipython-input-523-d277fe527abc>\u001b[0m in \u001b[0;36m<module>\u001b[0;34m()\u001b[0m\n\u001b[0;32m----> 1\u001b[0;31m \u001b[0mpd\u001b[0m\u001b[0;34m.\u001b[0m\u001b[0mname\u001b[0m\u001b[0;34m(\u001b[0m\u001b[0mdf\u001b[0m\u001b[0;34m)\u001b[0m\u001b[0;34m\u001b[0m\u001b[0m\n\u001b[0m",
      "\u001b[0;31mAttributeError\u001b[0m: module 'pandas' has no attribute 'name'"
     ]
    }
   ],
   "source": []
  },
  {
   "cell_type": "code",
   "execution_count": 276,
   "metadata": {},
   "outputs": [],
   "source": [
    "state_dict = {\n",
    "'ak':'alaska',\n",
    "'al':'Alabama',\n",
    "'ar':'arkansas',\n",
    "'az':'arizona',\n",
    "'ca':'california',\n",
    "'co':'colorado',\n",
    "'ct':'connecticut',\n",
    "'dc':'districtofcolumbia',\n",
    "'de':'delaware',\n",
    "'fl':'florida',\n",
    "'ga':'georgia',\n",
    "'gu':'guam',\n",
    "'hi':'hawaii',\n",
    "'ia':'iowa',\n",
    "'id':'idaho',\n",
    "'il':'illinois',\n",
    "'in':'indiana',\n",
    "'ks':'kansas',\n",
    "'ky':'kentucky',\n",
    "'la':'louisiana',\n",
    "'ma':'massachusetts',\n",
    "'md':'maryland',\n",
    "'me':'maine',\n",
    "'mi':'michigan',\n",
    "'mn':'minnesota',\n",
    "'mo':'missouri',\n",
    "'ms':'mississippi',\n",
    "'mt':'montana',\n",
    "'na':'national',\n",
    "'nc':'northcarolina',\n",
    "'nd':'northdakota',\n",
    "'ne':'nebraska',\n",
    "'nh':'newhampshire',\n",
    "'nj':'newjersey',\n",
    "'nm':'newmexico',\n",
    "'nv':'nevada',\n",
    "'ny':'newyork',\n",
    "'oh':'ohio',\n",
    "'ok':'oklahoma',\n",
    "'or':'oregon',\n",
    "'pa':'pennsylvania',\n",
    "'pr':'puertorico',\n",
    "'ri':'rhodeisland',\n",
    "'sc':'southcarolina',\n",
    "'sd':'southdakota',\n",
    "'tn':'tennessee',\n",
    "'tx':'texas',\n",
    "'ut':'utah',\n",
    "'va':'virginia',\n",
    "'vi':'virginislands',\n",
    "'vt':'vermont',\n",
    "'wa':'washington',\n",
    "'wi':'wisconsin',\n",
    "'wv':'westvirginia',\n",
    "'wy':'wyoming' \n",
    "}"
   ]
  },
  {
   "cell_type": "code",
   "execution_count": null,
   "metadata": {},
   "outputs": [],
   "source": []
  },
  {
   "cell_type": "code",
   "execution_count": null,
   "metadata": {},
   "outputs": [],
   "source": []
  }
 ],
 "metadata": {
  "kernelspec": {
   "display_name": "Python 3",
   "language": "python",
   "name": "python3"
  },
  "language_info": {
   "codemirror_mode": {
    "name": "ipython",
    "version": 3
   },
   "file_extension": ".py",
   "mimetype": "text/x-python",
   "name": "python",
   "nbconvert_exporter": "python",
   "pygments_lexer": "ipython3",
   "version": "3.6.5"
  }
 },
 "nbformat": 4,
 "nbformat_minor": 2
}
