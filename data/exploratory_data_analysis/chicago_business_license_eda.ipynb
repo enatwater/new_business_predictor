{
 "cells": [
  {
   "cell_type": "markdown",
   "metadata": {},
   "source": [
    "## City of Chicago business licence data for licenses with start dates between January 1, 2015 and December 31st, 2018"
   ]
  },
  {
   "cell_type": "code",
   "execution_count": 135,
   "metadata": {},
   "outputs": [
    {
     "data": {
      "text/html": [
       "<style>.container { width:90% !important; }</style>"
      ],
      "text/plain": [
       "<IPython.core.display.HTML object>"
      ]
     },
     "metadata": {},
     "output_type": "display_data"
    }
   ],
   "source": [
    "from IPython.core.display import display, HTML\n",
    "display(HTML(\"<style>.container { width:90% !important; }</style>\"))"
   ]
  },
  {
   "cell_type": "code",
   "execution_count": 2,
   "metadata": {},
   "outputs": [],
   "source": [
    "import pandas as pd\n",
    "import seaborn as sns\n",
    "import matplotlib.pyplot as plt"
   ]
  },
  {
   "cell_type": "code",
   "execution_count": 3,
   "metadata": {},
   "outputs": [],
   "source": [
    "df = pd.read_csv('chicago_business_licenses_2015_through_2018.csv', dtype=str)"
   ]
  },
  {
   "cell_type": "code",
   "execution_count": 4,
   "metadata": {},
   "outputs": [],
   "source": [
    "# Clean up column names\n",
    "df.columns = df.columns.str.replace(' ','_').str.lower().str.replace(\"'\", \"\")"
   ]
  },
  {
   "cell_type": "code",
   "execution_count": 122,
   "metadata": {},
   "outputs": [
    {
     "data": {
      "text/html": [
       "<div>\n",
       "<style scoped>\n",
       "    .dataframe tbody tr th:only-of-type {\n",
       "        vertical-align: middle;\n",
       "    }\n",
       "\n",
       "    .dataframe tbody tr th {\n",
       "        vertical-align: top;\n",
       "    }\n",
       "\n",
       "    .dataframe thead th {\n",
       "        text-align: right;\n",
       "    }\n",
       "</style>\n",
       "<table border=\"1\" class=\"dataframe\">\n",
       "  <thead>\n",
       "    <tr style=\"text-align: right;\">\n",
       "      <th></th>\n",
       "      <th>id</th>\n",
       "      <th>license_id</th>\n",
       "      <th>account_number</th>\n",
       "      <th>site_number</th>\n",
       "      <th>legal_name</th>\n",
       "      <th>doing_business_as_name</th>\n",
       "      <th>address</th>\n",
       "      <th>city</th>\n",
       "      <th>state</th>\n",
       "      <th>zip_code</th>\n",
       "      <th>ward</th>\n",
       "      <th>precinct</th>\n",
       "      <th>ward_precinct</th>\n",
       "      <th>police_district</th>\n",
       "      <th>license_code</th>\n",
       "      <th>license_description</th>\n",
       "      <th>business_activity_id</th>\n",
       "      <th>business_activity</th>\n",
       "      <th>license_number</th>\n",
       "      <th>application_type</th>\n",
       "      <th>application_created_date</th>\n",
       "      <th>application_requirements_complete</th>\n",
       "      <th>payment_date</th>\n",
       "      <th>conditional_approval</th>\n",
       "      <th>license_term_start_date</th>\n",
       "      <th>license_term_expiration_date</th>\n",
       "      <th>license_approved_for_issuance</th>\n",
       "      <th>date_issued</th>\n",
       "      <th>license_status</th>\n",
       "      <th>license_status_change_date</th>\n",
       "      <th>ssa</th>\n",
       "      <th>latitude</th>\n",
       "      <th>longitude</th>\n",
       "      <th>location</th>\n",
       "    </tr>\n",
       "  </thead>\n",
       "  <tbody>\n",
       "    <tr>\n",
       "      <th>0</th>\n",
       "      <td>1620668-20160516</td>\n",
       "      <td>2455262</td>\n",
       "      <td>295026</td>\n",
       "      <td>1</td>\n",
       "      <td>BUCCI BIG &amp; TALL INC.</td>\n",
       "      <td>BUCCI BIG &amp; TALL INC.</td>\n",
       "      <td>558 W ROOSEVELT RD</td>\n",
       "      <td>CHICAGO</td>\n",
       "      <td>IL</td>\n",
       "      <td>60607</td>\n",
       "      <td>25</td>\n",
       "      <td>28</td>\n",
       "      <td>25-28</td>\n",
       "      <td>1</td>\n",
       "      <td>1010</td>\n",
       "      <td>Limited Business License</td>\n",
       "      <td>911</td>\n",
       "      <td>Retail Sales of Clothing / Accessories / Shoes</td>\n",
       "      <td>1620668</td>\n",
       "      <td>RENEW</td>\n",
       "      <td>NaN</td>\n",
       "      <td>03/15/2016</td>\n",
       "      <td>05/18/2016</td>\n",
       "      <td>N</td>\n",
       "      <td>05/16/2016</td>\n",
       "      <td>05/15/2018</td>\n",
       "      <td>05/18/2016</td>\n",
       "      <td>08/30/2016</td>\n",
       "      <td>AAI</td>\n",
       "      <td>NaN</td>\n",
       "      <td>NaN</td>\n",
       "      <td>41.867338566</td>\n",
       "      <td>-87.641590057</td>\n",
       "      <td>(41.86733856638269, -87.64159005699716)</td>\n",
       "    </tr>\n",
       "    <tr>\n",
       "      <th>1</th>\n",
       "      <td>2368602-20160616</td>\n",
       "      <td>2460909</td>\n",
       "      <td>291461</td>\n",
       "      <td>3</td>\n",
       "      <td>PROJECT: VISION , INC.</td>\n",
       "      <td>PROJECT : VISION , INC</td>\n",
       "      <td>2301 S ARCHER AVE 1 1</td>\n",
       "      <td>CHICAGO</td>\n",
       "      <td>IL</td>\n",
       "      <td>60616</td>\n",
       "      <td>25</td>\n",
       "      <td>18</td>\n",
       "      <td>25-18</td>\n",
       "      <td>9</td>\n",
       "      <td>1625</td>\n",
       "      <td>Raffles</td>\n",
       "      <td>720</td>\n",
       "      <td>Not-For-Profit Selling Raffles for Prizes of $50 or More</td>\n",
       "      <td>2368602</td>\n",
       "      <td>RENEW</td>\n",
       "      <td>NaN</td>\n",
       "      <td>04/15/2016</td>\n",
       "      <td>06/21/2016</td>\n",
       "      <td>N</td>\n",
       "      <td>06/16/2016</td>\n",
       "      <td>06/15/2017</td>\n",
       "      <td>06/21/2016</td>\n",
       "      <td>06/22/2016</td>\n",
       "      <td>AAC</td>\n",
       "      <td>08/30/2016</td>\n",
       "      <td>NaN</td>\n",
       "      <td>41.850842944</td>\n",
       "      <td>-87.638734244</td>\n",
       "      <td>(41.85084294374687, -87.63873424399071)</td>\n",
       "    </tr>\n",
       "    <tr>\n",
       "      <th>2</th>\n",
       "      <td>2488345-20160830</td>\n",
       "      <td>2488345</td>\n",
       "      <td>409564</td>\n",
       "      <td>1</td>\n",
       "      <td>BURKS HEATING AND COOLING SOLUTIONS, LLC</td>\n",
       "      <td>BURKS HEATING AND COOLING SOLUTIONS, LLC</td>\n",
       "      <td>5722 S WOOD ST 1ST</td>\n",
       "      <td>CHICAGO</td>\n",
       "      <td>IL</td>\n",
       "      <td>60636</td>\n",
       "      <td>15</td>\n",
       "      <td>35</td>\n",
       "      <td>15-35</td>\n",
       "      <td>7</td>\n",
       "      <td>4404</td>\n",
       "      <td>Regulated Business License</td>\n",
       "      <td>674</td>\n",
       "      <td>Home Repair Services (Home Occ)</td>\n",
       "      <td>2488345</td>\n",
       "      <td>ISSUE</td>\n",
       "      <td>08/30/2016</td>\n",
       "      <td>08/30/2016</td>\n",
       "      <td>08/30/2016</td>\n",
       "      <td>N</td>\n",
       "      <td>08/30/2016</td>\n",
       "      <td>09/15/2018</td>\n",
       "      <td>08/30/2016</td>\n",
       "      <td>08/30/2016</td>\n",
       "      <td>AAI</td>\n",
       "      <td>NaN</td>\n",
       "      <td>NaN</td>\n",
       "      <td>41.78961679</td>\n",
       "      <td>-87.669471996</td>\n",
       "      <td>(41.78961679000226, -87.66947199630827)</td>\n",
       "    </tr>\n",
       "    <tr>\n",
       "      <th>3</th>\n",
       "      <td>2354707-20160916</td>\n",
       "      <td>2482568</td>\n",
       "      <td>393149</td>\n",
       "      <td>1</td>\n",
       "      <td>ANGELINE R. MC CARTHY</td>\n",
       "      <td>ANGELINE R. MC CARTHY</td>\n",
       "      <td>17707 S HARLEM ST 1</td>\n",
       "      <td>TINLEY PARK</td>\n",
       "      <td>IL</td>\n",
       "      <td>60477</td>\n",
       "      <td>NaN</td>\n",
       "      <td>NaN</td>\n",
       "      <td>NaN</td>\n",
       "      <td>NaN</td>\n",
       "      <td>4406</td>\n",
       "      <td>Peddler License</td>\n",
       "      <td>915</td>\n",
       "      <td>Street Performer, Moving Along the Public Way (Special)</td>\n",
       "      <td>2354707</td>\n",
       "      <td>RENEW</td>\n",
       "      <td>NaN</td>\n",
       "      <td>07/15/2016</td>\n",
       "      <td>08/30/2016</td>\n",
       "      <td>N</td>\n",
       "      <td>09/16/2016</td>\n",
       "      <td>09/15/2018</td>\n",
       "      <td>NaN</td>\n",
       "      <td>08/30/2016</td>\n",
       "      <td>AAI</td>\n",
       "      <td>NaN</td>\n",
       "      <td>NaN</td>\n",
       "      <td>NaN</td>\n",
       "      <td>NaN</td>\n",
       "      <td>NaN</td>\n",
       "    </tr>\n",
       "    <tr>\n",
       "      <th>4</th>\n",
       "      <td>2488245-20160830</td>\n",
       "      <td>2488245</td>\n",
       "      <td>336275</td>\n",
       "      <td>2</td>\n",
       "      <td>MARIA G CAHUE</td>\n",
       "      <td>BEAUTY AND HEALTH</td>\n",
       "      <td>2705 W 51ST ST 1ST</td>\n",
       "      <td>CHICAGO</td>\n",
       "      <td>IL</td>\n",
       "      <td>60632</td>\n",
       "      <td>14</td>\n",
       "      <td>19</td>\n",
       "      <td>14-19</td>\n",
       "      <td>9</td>\n",
       "      <td>1010</td>\n",
       "      <td>Limited Business License</td>\n",
       "      <td>904</td>\n",
       "      <td>Retail Sales of General Merchandise</td>\n",
       "      <td>2488245</td>\n",
       "      <td>ISSUE</td>\n",
       "      <td>08/29/2016</td>\n",
       "      <td>08/30/2016</td>\n",
       "      <td>08/30/2016</td>\n",
       "      <td>N</td>\n",
       "      <td>08/30/2016</td>\n",
       "      <td>06/15/2017</td>\n",
       "      <td>08/30/2016</td>\n",
       "      <td>08/30/2016</td>\n",
       "      <td>AAI</td>\n",
       "      <td>NaN</td>\n",
       "      <td>NaN</td>\n",
       "      <td>41.80091646</td>\n",
       "      <td>-87.691799519</td>\n",
       "      <td>(41.80091646021564, -87.69179951881104)</td>\n",
       "    </tr>\n",
       "  </tbody>\n",
       "</table>\n",
       "</div>"
      ],
      "text/plain": [
       "                 id license_id account_number site_number  \\\n",
       "0  1620668-20160516  2455262    295026         1            \n",
       "1  2368602-20160616  2460909    291461         3            \n",
       "2  2488345-20160830  2488345    409564         1            \n",
       "3  2354707-20160916  2482568    393149         1            \n",
       "4  2488245-20160830  2488245    336275         2            \n",
       "\n",
       "                                 legal_name  \\\n",
       "0  BUCCI BIG & TALL INC.                      \n",
       "1  PROJECT: VISION , INC.                     \n",
       "2  BURKS HEATING AND COOLING SOLUTIONS, LLC   \n",
       "3  ANGELINE R. MC CARTHY                      \n",
       "4  MARIA G CAHUE                              \n",
       "\n",
       "                     doing_business_as_name                address  \\\n",
       "0  BUCCI BIG & TALL INC.                     558 W ROOSEVELT RD      \n",
       "1  PROJECT : VISION , INC                    2301 S ARCHER AVE 1 1   \n",
       "2  BURKS HEATING AND COOLING SOLUTIONS, LLC  5722 S WOOD ST 1ST      \n",
       "3  ANGELINE R. MC CARTHY                     17707 S HARLEM ST 1     \n",
       "4  BEAUTY AND HEALTH                         2705 W 51ST ST 1ST      \n",
       "\n",
       "          city state zip_code ward precinct ward_precinct police_district  \\\n",
       "0  CHICAGO      IL    60607    25   28       25-28         1                \n",
       "1  CHICAGO      IL    60616    25   18       25-18         9                \n",
       "2  CHICAGO      IL    60636    15   35       15-35         7                \n",
       "3  TINLEY PARK  IL    60477    NaN  NaN      NaN           NaN              \n",
       "4  CHICAGO      IL    60632    14   19       14-19         9                \n",
       "\n",
       "  license_code         license_description business_activity_id  \\\n",
       "0  1010         Limited Business License    911                   \n",
       "1  1625         Raffles                     720                   \n",
       "2  4404         Regulated Business License  674                   \n",
       "3  4406         Peddler License             915                   \n",
       "4  1010         Limited Business License    904                   \n",
       "\n",
       "                                          business_activity license_number  \\\n",
       "0  Retail Sales of Clothing / Accessories / Shoes            1620668         \n",
       "1  Not-For-Profit Selling Raffles for Prizes of $50 or More  2368602         \n",
       "2  Home Repair Services (Home Occ)                           2488345         \n",
       "3  Street Performer, Moving Along the Public Way (Special)   2354707         \n",
       "4  Retail Sales of General Merchandise                       2488245         \n",
       "\n",
       "  application_type application_created_date application_requirements_complete  \\\n",
       "0  RENEW            NaN                      03/15/2016                         \n",
       "1  RENEW            NaN                      04/15/2016                         \n",
       "2  ISSUE            08/30/2016               08/30/2016                         \n",
       "3  RENEW            NaN                      07/15/2016                         \n",
       "4  ISSUE            08/29/2016               08/30/2016                         \n",
       "\n",
       "  payment_date conditional_approval license_term_start_date  \\\n",
       "0  05/18/2016   N                    05/16/2016               \n",
       "1  06/21/2016   N                    06/16/2016               \n",
       "2  08/30/2016   N                    08/30/2016               \n",
       "3  08/30/2016   N                    09/16/2016               \n",
       "4  08/30/2016   N                    08/30/2016               \n",
       "\n",
       "  license_term_expiration_date license_approved_for_issuance date_issued  \\\n",
       "0  05/15/2018                   05/18/2016                    08/30/2016   \n",
       "1  06/15/2017                   06/21/2016                    06/22/2016   \n",
       "2  09/15/2018                   08/30/2016                    08/30/2016   \n",
       "3  09/15/2018                   NaN                           08/30/2016   \n",
       "4  06/15/2017                   08/30/2016                    08/30/2016   \n",
       "\n",
       "  license_status license_status_change_date  ssa      latitude      longitude  \\\n",
       "0  AAI            NaN                        NaN  41.867338566  -87.641590057   \n",
       "1  AAC            08/30/2016                 NaN  41.850842944  -87.638734244   \n",
       "2  AAI            NaN                        NaN  41.78961679   -87.669471996   \n",
       "3  AAI            NaN                        NaN  NaN           NaN             \n",
       "4  AAI            NaN                        NaN  41.80091646   -87.691799519   \n",
       "\n",
       "                                  location  \n",
       "0  (41.86733856638269, -87.64159005699716)  \n",
       "1  (41.85084294374687, -87.63873424399071)  \n",
       "2  (41.78961679000226, -87.66947199630827)  \n",
       "3  NaN                                      \n",
       "4  (41.80091646021564, -87.69179951881104)  "
      ]
     },
     "execution_count": 122,
     "metadata": {},
     "output_type": "execute_result"
    }
   ],
   "source": [
    "df.head()"
   ]
  },
  {
   "cell_type": "markdown",
   "metadata": {},
   "source": [
    "### Location\n",
    "Nearly 12K records (8.4%) are linked to locations outside of Chicago. These are largely entities such as construction companies that are licenced to do work in Chicago, but have no physical location in the city. \n",
    "\n",
    "This project focuses on businesses considering a physical location in Chiacgo, so these non-Chicago records will be excluded from the dataset.\n"
   ]
  },
  {
   "cell_type": "code",
   "execution_count": 123,
   "metadata": {},
   "outputs": [
    {
     "name": "stdout",
     "output_type": "stream",
     "text": [
      "Number of locations outside of Chiacgo: 11780 \n",
      "Percent of locations outside of Chicago:  8.44 %\n"
     ]
    }
   ],
   "source": [
    "print('Number of locations outside of Chiacgo:', len(df.id.loc[df.city != 'CHICAGO']),\n",
    "     '\\nPercent of locations outside of Chicago: ', (round(len(df.id.loc[df.city != 'CHICAGO'])/len(df.index),4))*100,'%')"
   ]
  },
  {
   "cell_type": "code",
   "execution_count": 132,
   "metadata": {},
   "outputs": [
    {
     "data": {
      "text/plain": [
       "127860"
      ]
     },
     "execution_count": 132,
     "metadata": {},
     "output_type": "execute_result"
    }
   ],
   "source": [
    "chicago_only_df = df.loc[df.city == 'CHICAGO']\n",
    "len(chicago_only_df)"
   ]
  },
  {
   "cell_type": "markdown",
   "metadata": {},
   "source": [
    "## Null Values"
   ]
  },
  {
   "cell_type": "code",
   "execution_count": 8,
   "metadata": {},
   "outputs": [
    {
     "data": {
      "text/plain": [
       "<matplotlib.axes._subplots.AxesSubplot at 0x1106837b8>"
      ]
     },
     "execution_count": 8,
     "metadata": {},
     "output_type": "execute_result"
    },
    {
     "data": {
      "image/png": "[encoded data removed]",
      "text/plain": [
       "<Figure size 1152x360 with 1 Axes>"
      ]
     },
     "metadata": {},
     "output_type": "display_data"
    }
   ],
   "source": [
    "# View null values\n",
    "plt.figure(figsize = (16,5))\n",
    "sns.heatmap(chicago_only_df.isnull(), cbar=False)"
   ]
  },
  {
   "cell_type": "code",
   "execution_count": 9,
   "metadata": {},
   "outputs": [
    {
     "data": {
      "text/plain": [
       "<matplotlib.axes._subplots.AxesSubplot at 0x1a18004a58>"
      ]
     },
     "execution_count": 9,
     "metadata": {},
     "output_type": "execute_result"
    },
    {
     "data": {
      "image/png": "[encoded data removed]",
      "text/plain": [
       "<Figure size 1152x360 with 1 Axes>"
      ]
     },
     "metadata": {},
     "output_type": "display_data"
    }
   ],
   "source": [
    "plt.figure(figsize = (16,5))\n",
    "\n",
    "# get percent of values that are null, excluding fields with no null values\n",
    "(1 - chicago_only_df.count()/len(chicago_only_df.index)).where(chicago_only_df.count() < len(df.index)).dropna().plot(kind='bar')"
   ]
  },
  {
   "cell_type": "markdown",
   "metadata": {},
   "source": [
    "### Missing Location Data\n",
    "\n",
    "Location is an ingegral part of this project, but 2% of records do not have latitude and longitude data. However, all locations have a street address. Although many of these have non-standard address formats (e.g. 17 W ADAMS ST BSMT & 1ST), it it will be possible to geocode some addresses without lat/long data using the Census Bureau's geocoder (https://geocoding.geo.census.gov/geocoder/locations/addressbatch?form). Addresses that cannot be sucessfully geocoded will be discarded.\n"
   ]
  },
  {
   "cell_type": "code",
   "execution_count": 124,
   "metadata": {},
   "outputs": [
    {
     "name": "stdout",
     "output_type": "stream",
     "text": [
      "Number of recordss missing a location:  2468\n",
      "Percent of recordss missing a location:  1.9\n"
     ]
    }
   ],
   "source": [
    "print('Number of recordss missing a location: ',len(chicago_only_df.index) - chicago_only_df['latitude'].count())\n",
    "print('Percent of recordss missing a location: ',round(1 - chicago_only_df['location'].count()/len(chicago_only_df.index), 3) * 100)"
   ]
  },
  {
   "cell_type": "markdown",
   "metadata": {},
   "source": [
    "### Business activity\n",
    "A record's 'business activity' is the description of what a businesses does. See below for examples of the difference between the broader 'license_description' and 'business_activity'"
   ]
  },
  {
   "cell_type": "code",
   "execution_count": 136,
   "metadata": {},
   "outputs": [
    {
     "data": {
      "text/html": [
       "<div>\n",
       "<style scoped>\n",
       "    .dataframe tbody tr th:only-of-type {\n",
       "        vertical-align: middle;\n",
       "    }\n",
       "\n",
       "    .dataframe tbody tr th {\n",
       "        vertical-align: top;\n",
       "    }\n",
       "\n",
       "    .dataframe thead th {\n",
       "        text-align: right;\n",
       "    }\n",
       "</style>\n",
       "<table border=\"1\" class=\"dataframe\">\n",
       "  <thead>\n",
       "    <tr style=\"text-align: right;\">\n",
       "      <th></th>\n",
       "      <th>license_description</th>\n",
       "      <th>business_activity</th>\n",
       "    </tr>\n",
       "  </thead>\n",
       "  <tbody>\n",
       "    <tr>\n",
       "      <th>0</th>\n",
       "      <td>Limited Business License</td>\n",
       "      <td>Retail Sales of Clothing / Accessories / Shoes</td>\n",
       "    </tr>\n",
       "    <tr>\n",
       "      <th>1</th>\n",
       "      <td>Raffles</td>\n",
       "      <td>Not-For-Profit Selling Raffles for Prizes of $50 or More</td>\n",
       "    </tr>\n",
       "    <tr>\n",
       "      <th>2</th>\n",
       "      <td>Regulated Business License</td>\n",
       "      <td>Home Repair Services (Home Occ)</td>\n",
       "    </tr>\n",
       "    <tr>\n",
       "      <th>4</th>\n",
       "      <td>Limited Business License</td>\n",
       "      <td>Retail Sales of General Merchandise</td>\n",
       "    </tr>\n",
       "    <tr>\n",
       "      <th>5</th>\n",
       "      <td>Retail Food Establishment</td>\n",
       "      <td>Sale of Food Prepared Onsite Without Dining Area</td>\n",
       "    </tr>\n",
       "  </tbody>\n",
       "</table>\n",
       "</div>"
      ],
      "text/plain": [
       "          license_description  \\\n",
       "0  Limited Business License     \n",
       "1  Raffles                      \n",
       "2  Regulated Business License   \n",
       "4  Limited Business License     \n",
       "5  Retail Food Establishment    \n",
       "\n",
       "                                          business_activity  \n",
       "0  Retail Sales of Clothing / Accessories / Shoes            \n",
       "1  Not-For-Profit Selling Raffles for Prizes of $50 or More  \n",
       "2  Home Repair Services (Home Occ)                           \n",
       "4  Retail Sales of General Merchandise                       \n",
       "5  Sale of Food Prepared Onsite Without Dining Area          "
      ]
     },
     "execution_count": 136,
     "metadata": {},
     "output_type": "execute_result"
    }
   ],
   "source": [
    "chicago_only_df[['license_description','business_activity']].head()"
   ]
  },
  {
   "cell_type": "markdown",
   "metadata": {},
   "source": [
    "A single license can have multiple associated business activities, seperated by a pipe. I will likely create one row per business activity. For example:\n"
   ]
  },
  {
   "cell_type": "code",
   "execution_count": 189,
   "metadata": {},
   "outputs": [],
   "source": [
    "#[['license_description','business_activity']]\n",
    "#df[df['id'].str.contains('|')]"
   ]
  },
  {
   "cell_type": "code",
   "execution_count": 187,
   "metadata": {},
   "outputs": [
    {
     "data": {
      "text/plain": [
       "0         Retail Sales of Clothing / Accessories / Shoes                                                                                                                                                                                                 \n",
       "1         Not-For-Profit Selling Raffles for Prizes of $50 or More                                                                                                                                                                                       \n",
       "2         Home Repair Services (Home Occ)                                                                                                                                                                                                                \n",
       "4         Retail Sales of General Merchandise                                                                                                                                                                                                            \n",
       "5         Sale of Food Prepared Onsite Without Dining Area                                                                                                                                                                                               \n",
       "6         Miscellaneous Commercial Services                                                                                                                                                                                                              \n",
       "8         Provide Waxing Services | Skincare Services                                                                                                                                                                                                    \n",
       "9         NaN                                                                                                                                                                                                                                            \n",
       "11        Preparation of Food and Dining on Premise With Seating                                                                                                                                                                                         \n",
       "12        Retail Sales of Jewelry and Jewelry Repair                                                                                                                                                                                                     \n",
       "13        Laundry Service - Drop Off Only                                                                                                                                                                                                                \n",
       "14        Hair, Nail, and Skin Care Services | Hair Services | Nail Services | Skincare Services                                                                                                                                                         \n",
       "15        Retail Sales of Cell Phones and Accessories | Electronic Equipment Repair                                                                                                                                                                      \n",
       "16        Sale of Food Prepared Onsite With Dining Area                                                                                                                                                                                                  \n",
       "21        Retail Sales of Perishable Foods                                                                                                                                                                                                               \n",
       "22        Nail Services                                                                                                                                                                                                                                  \n",
       "25        Administrative Commercial Office                                                                                                                                                                                                               \n",
       "35        5 Day Single - Special Event Food                                                                                                                                                                                                              \n",
       "40        Storage or Use of Hazardous Materials (MFG)                                                                                                                                                                                                    \n",
       "42        Interior Design / Consulting (Home Occ)                                                                                                                                                                                                        \n",
       "44        Operate a Veterinary Hospital                                                                                                                                                                                                                  \n",
       "47        Motor Vehicle Repair - Engine and Transmission Work                                                                                                                                                                                            \n",
       "49        Tavern - Consumption of Liquor on Premise                                                                                                                                                                                                      \n",
       "52        Provide Home Health Care Services                                                                                                                                                                                                              \n",
       "58        Retail Sales of General Merchandise and Non-Perishable Food | Retail Sales of Jewelry and Jewelry Repair                                                                                                                                       \n",
       "59        Retail Sales of Packaged Liquor                                                                                                                                                                                                                \n",
       "61        Administrative Commercial Office | Financial Services                                                                                                                                                                                          \n",
       "63        Hair Services                                                                                                                                                                                                                                  \n",
       "67        Preparation of License, Certificate or Permit Applications For Compensation (Home Occ)                                                                                                                                                         \n",
       "69        Hair Services | Skincare Services                                                                                                                                                                                                              \n",
       "                        ...                                                                                                                                                                                                                              \n",
       "137272    Hand Car Wash | Rental of General Merchandise                                                                                                                                                                                                  \n",
       "137311    Sale and Storage of Tires, 100 - 1000 | Motor Vehicle Repair - No Engine and No Body | Sale and Storage of Tires, 1,001 - 5000                                                                                                                 \n",
       "137387    Retail Sales of General Merchandise | Sales Through an Auction | Sales / Rental / Lease of Motorized Vehicles | Retail Sales of General Merchandise and Non-Perishable Food | Rental of General Merchandise | Miscellaneous Commercial Services\n",
       "137400    Wholesale Jewelry, Watches and Accessories | Retail Sales of Clothing / Accessories / Shoes                                                                                                                                                    \n",
       "137486    Motor Vehicle Repair - Engine and Transmission Work | Storage or Use of Hazardous Materials (MVR) | Sale and Storage of Tires, 1,001 - 5000                                                                                                    \n",
       "137579    Retail Sales of General Merchandise | Hair, Nail, and Skin Care Services | Retail Sales of General Merchandise and Non-Perishable Food | Hair Services | Skincare Services                                                                     \n",
       "137592    Retail Sales of Clothing / Accessories / Shoes | Health Club                                                                                                                                                                                   \n",
       "137629    Online Sales (Home Occ) | Residential Cleaning (Home Occ)                                                                                                                                                                                      \n",
       "137708    Retail Sales of General Merchandise | Sales / Rental / Lease of Motorized Vehicles                                                                                                                                                             \n",
       "137740    Snowplowing                                                                                                                                                                                                                                    \n",
       "137756    Retail Sales of Fresh Fruits and Vegetables | Preparation of Food, Coffee or Drinks | Retail Sales of Perishable Foods                                                                                                                         \n",
       "137771    Retail Sales of General Merchandise | Sale of Food Prepared Onsite Without Dining Area | Retail Sales of General Merchandise and Non-Perishable Food | Preparation of Food, Coffee or Drinks                                                   \n",
       "137852    Administrative Commercial Office | Miscellaneous Commercial Services | Immigration Services                                                                                                                                                    \n",
       "137869    Graphic Design and Consultation | Retail Sales of Clothing / Accessories / Shoes | Photography Services                                                                                                                                        \n",
       "137893    Miscellaneous Wholesale | Hand Car Wash                                                                                                                                                                                                        \n",
       "137993    Car Wash | Sale of Vehicle Parts and Accessories | Motor Vehicle Repair - Engine and Transmission Work | Sale and Storage of Tires, 100 - 1000 | Storage or Use of Hazardous Materials (MVR) | Motor Vehicle Repair - Engine and Body Work     \n",
       "138127    Motor Vehicle Repair - No Engine and No Body | Sale and Storage of Tires, 100 - 1000 | Motor Vehicle Repair - Engine and Transmission Work                                                                                                     \n",
       "138266    Skincare Services | Hair Services | Nail Services | Retail Sales of General Merchandise                                                                                                                                                        \n",
       "138397    Graphic Design and Consultation | Business and Management Consulting | Administrative Commercial Office                                                                                                                                        \n",
       "138406    Retail Sales of Clothing / Accessories / Shoes | Miscellaneous Commercial Services | Retail Sales of General Merchandise                                                                                                                       \n",
       "138676    Retail Sales of General Merchandise | Retail Sales of General Merchandise and Non-Perishable Food | Sale of Furniture | Residential Installations                                                                                              \n",
       "138680    Miscellaneous Personal Services | Clothing Alterations                                                                                                                                                                                         \n",
       "139013    Laundry Service | Clothing Alterations                                                                                                                                                                                                         \n",
       "139197    Engine Repairs, Service and Installation of Transmissions, Audio and/or Alarm Systems | Mechanic Shop, Oil Change, Tire Repair | Motor Vehicle Repair - Engine and Transmission Work                                                           \n",
       "139200    Retail Sales of General Merchandise and Non-Perishable Food | Retail Sales of Cell Phones and Accessories | Electronic Equipment Repair | Payment Center                                                                                       \n",
       "139268    Wedding Planner (Home Occ) | Online Sales (Home Occ) | Marketing / Advertising (Home Occ)                                                                                                                                                      \n",
       "139306    Administrative Commercial Office | Commercial Construction | Home Repair Services                                                                                                                                                              \n",
       "139362    Retail Sales of New Electronics and Accessories | Retail Sales of General Merchandise and Non-Perishable Food | Retail Sales of Cell Phones and Accessories                                                                                    \n",
       "139506    Miscellaneous Personal Services | Commissioned Staffing of Professional, Secretarial and Clerical Work                                                                                                                                         \n",
       "139569    Graphic Design (Home Occ) | Freelance Writer (Home Occ) | Non-Professional Consulting (Home Occ)                                                                                                                                               \n",
       "Name: business_activity, Length: 3451, dtype: object"
      ]
     },
     "execution_count": 187,
     "metadata": {},
     "output_type": "execute_result"
    }
   ],
   "source": [
    "# Debug\n",
    "#chicago_only_df['business_activity'].filter(like='|', axis=0) \n",
    "#chicago_only_df[chicago_only_df['business_activity'].str.contains(\"so\")]#.drop_duplicates()\n",
    "chicago_only_df['business_activity'].drop_duplicates()"
   ]
  },
  {
   "cell_type": "markdown",
   "metadata": {},
   "source": [
    "### Missing business activity\n",
    "Nearly 14% of records are missing a business activity. "
   ]
  },
  {
   "cell_type": "code",
   "execution_count": 126,
   "metadata": {},
   "outputs": [
    {
     "name": "stdout",
     "output_type": "stream",
     "text": [
      "Number of recordss missing a business activity:  17525\n",
      "Percent of recordss missing a business activity:  13.71\n"
     ]
    }
   ],
   "source": [
    "print('Number of recordss missing a business activity: ', chicago_only_df.business_activity.isna().sum())\n",
    "print('Percent of recordss missing a business activity: ', round(1 - chicago_only_df.business_activity.count()/len(chicago_only_df.index), 4) * 100)"
   ]
  },
  {
   "cell_type": "markdown",
   "metadata": {},
   "source": [
    "Nearly all businesses with no business activity listed have \"Limited Business License\" license types:"
   ]
  },
  {
   "cell_type": "code",
   "execution_count": 67,
   "metadata": {},
   "outputs": [
    {
     "data": {
      "text/plain": [
       "license_description\n",
       "Limited Business License                         17498\n",
       "Manufacturing Establishments                         7\n",
       "Animal Care License                                  7\n",
       "Industrial Private Event Venue                       4\n",
       "Regulated Business License                           2\n",
       "Music and Dance                                      2\n",
       "Children's Services Facility License                 2\n",
       "Retail Food Establishment                            1\n",
       "Consumption on Premises - Incidental Activity        1\n",
       "Commercial Garage                                    1\n",
       "Name: license_description, dtype: int64"
      ]
     },
     "execution_count": 67,
     "metadata": {},
     "output_type": "execute_result"
    }
   ],
   "source": [
    "null_business_activity_df = chicago_only_df.loc[df.business_activity.isna()].copy()\n",
    "null_business_activity_df.groupby(['license_description'])['license_description'].count().sort_values(ascending = False)"
   ]
  },
  {
   "cell_type": "code",
   "execution_count": 127,
   "metadata": {
    "scrolled": true
   },
   "outputs": [],
   "source": [
    "# List of businesses missing business activities.\n",
    "    # Another option is to view businesses by owner names: \n",
    "    # null_business_activity_df.groupby(['legal_name'])['legal_name'].count().sort_values(ascending = False)\n",
    "dbas_with_null_bus_act = null_business_activity_df.groupby(['doing_business_as_name'])['doing_business_as_name'].count().sort_values(ascending = False)"
   ]
  },
  {
   "cell_type": "code",
   "execution_count": 128,
   "metadata": {},
   "outputs": [],
   "source": [
    "# Convert to dataframe\n",
    "dbas_with_null_bus_act = dbas_with_null_bus_act.to_frame(name='count_of_records')\n"
   ]
  },
  {
   "cell_type": "markdown",
   "metadata": {},
   "source": [
    "The majority of businesses without business activity types have fewer than 10 records. 38 businesses have more than 10 records. I think it's a reasonable use of time to manually assign business types to these 38 businesses. Depending on time constraints, I may manually code businesses with as few as 5 records. There are 99 such businesses.\n"
   ]
  },
  {
   "cell_type": "code",
   "execution_count": 89,
   "metadata": {},
   "outputs": [
    {
     "data": {
      "text/plain": [
       "count_of_records    38\n",
       "dtype: int64"
      ]
     },
     "execution_count": 89,
     "metadata": {},
     "output_type": "execute_result"
    }
   ],
   "source": [
    "dbas_with_null_bus_act.loc[dbas_with_null_bus_act.count_of_records >= 10].count()"
   ]
  },
  {
   "cell_type": "code",
   "execution_count": 129,
   "metadata": {},
   "outputs": [
    {
     "data": {
      "text/html": [
       "<div>\n",
       "<style scoped>\n",
       "    .dataframe tbody tr th:only-of-type {\n",
       "        vertical-align: middle;\n",
       "    }\n",
       "\n",
       "    .dataframe tbody tr th {\n",
       "        vertical-align: top;\n",
       "    }\n",
       "\n",
       "    .dataframe thead th {\n",
       "        text-align: right;\n",
       "    }\n",
       "</style>\n",
       "<table border=\"1\" class=\"dataframe\">\n",
       "  <thead>\n",
       "    <tr style=\"text-align: right;\">\n",
       "      <th></th>\n",
       "      <th>count_of_records</th>\n",
       "    </tr>\n",
       "    <tr>\n",
       "      <th>doing_business_as_name</th>\n",
       "      <th></th>\n",
       "    </tr>\n",
       "  </thead>\n",
       "  <tbody>\n",
       "    <tr>\n",
       "      <th>FEDEX OFFICE AND PRINT SVCS, INC.</th>\n",
       "      <td>58</td>\n",
       "    </tr>\n",
       "    <tr>\n",
       "      <th>T-MOBILE</th>\n",
       "      <td>48</td>\n",
       "    </tr>\n",
       "    <tr>\n",
       "      <th>PUBLIC STORAGE</th>\n",
       "      <td>40</td>\n",
       "    </tr>\n",
       "    <tr>\n",
       "      <th>ENTERPRISE RENT-A-CAR</th>\n",
       "      <td>37</td>\n",
       "    </tr>\n",
       "    <tr>\n",
       "      <th>HUDSON NEWS</th>\n",
       "      <td>31</td>\n",
       "    </tr>\n",
       "    <tr>\n",
       "      <th>Innovative FOTO</th>\n",
       "      <td>29</td>\n",
       "    </tr>\n",
       "    <tr>\n",
       "      <th>PSAV Presentation Services</th>\n",
       "      <td>24</td>\n",
       "    </tr>\n",
       "    <tr>\n",
       "      <th>TELEPORT COMMUNICATIONS AMERICA, LLC</th>\n",
       "      <td>24</td>\n",
       "    </tr>\n",
       "    <tr>\n",
       "      <th>THE UPS STORE</th>\n",
       "      <td>22</td>\n",
       "    </tr>\n",
       "    <tr>\n",
       "      <th>VERIZON BUSINESS SERVICES</th>\n",
       "      <td>19</td>\n",
       "    </tr>\n",
       "    <tr>\n",
       "      <th>THE HERTZ CORPORATION</th>\n",
       "      <td>18</td>\n",
       "    </tr>\n",
       "    <tr>\n",
       "      <th>REGUS MANAGEMENT GROUP LLC.</th>\n",
       "      <td>17</td>\n",
       "    </tr>\n",
       "    <tr>\n",
       "      <th>COUNTRY FINANCIAL</th>\n",
       "      <td>17</td>\n",
       "    </tr>\n",
       "    <tr>\n",
       "      <th>PAYLESS SHOE SOURCE</th>\n",
       "      <td>17</td>\n",
       "    </tr>\n",
       "    <tr>\n",
       "      <th>BOOST MOBILE</th>\n",
       "      <td>17</td>\n",
       "    </tr>\n",
       "    <tr>\n",
       "      <th>XEROX CORPORATION</th>\n",
       "      <td>16</td>\n",
       "    </tr>\n",
       "    <tr>\n",
       "      <th>VERIZON WIRELESS</th>\n",
       "      <td>15</td>\n",
       "    </tr>\n",
       "    <tr>\n",
       "      <th>SHOE HOSPITAL, INC.</th>\n",
       "      <td>14</td>\n",
       "    </tr>\n",
       "    <tr>\n",
       "      <th>ONEMAIN FINANCIAL OF ILLINOIS, INC.</th>\n",
       "      <td>14</td>\n",
       "    </tr>\n",
       "    <tr>\n",
       "      <th>CLARK STREET SPORTS</th>\n",
       "      <td>12</td>\n",
       "    </tr>\n",
       "    <tr>\n",
       "      <th>UNIQUE THRIFT STORE</th>\n",
       "      <td>12</td>\n",
       "    </tr>\n",
       "    <tr>\n",
       "      <th>VILLAGE DISCOUNT OUTLET INC</th>\n",
       "      <td>12</td>\n",
       "    </tr>\n",
       "    <tr>\n",
       "      <th>Encore Event Technologies, Inc</th>\n",
       "      <td>12</td>\n",
       "    </tr>\n",
       "    <tr>\n",
       "      <th>IRON MOUNTAIN RECORDS MANAGEMENT</th>\n",
       "      <td>12</td>\n",
       "    </tr>\n",
       "    <tr>\n",
       "      <th>T-MOBILE LIMITED</th>\n",
       "      <td>12</td>\n",
       "    </tr>\n",
       "    <tr>\n",
       "      <th>ENTERPRISE RENT A CAR</th>\n",
       "      <td>11</td>\n",
       "    </tr>\n",
       "    <tr>\n",
       "      <th>AT&amp;T MOBILITY - PCS</th>\n",
       "      <td>11</td>\n",
       "    </tr>\n",
       "    <tr>\n",
       "      <th>CITY SPORTS</th>\n",
       "      <td>10</td>\n",
       "    </tr>\n",
       "    <tr>\n",
       "      <th>VILLA JOIN THE MOVEMENT</th>\n",
       "      <td>10</td>\n",
       "    </tr>\n",
       "    <tr>\n",
       "      <th>QWEST COMMUNICATIONS COMPANY, LLC</th>\n",
       "      <td>10</td>\n",
       "    </tr>\n",
       "    <tr>\n",
       "      <th>US MESSENGER</th>\n",
       "      <td>10</td>\n",
       "    </tr>\n",
       "    <tr>\n",
       "      <th>ILLINOIS TITLE LOANS</th>\n",
       "      <td>10</td>\n",
       "    </tr>\n",
       "    <tr>\n",
       "      <th>U.S. MESSENGER</th>\n",
       "      <td>10</td>\n",
       "    </tr>\n",
       "    <tr>\n",
       "      <th>WILLIAMS LEA INC.</th>\n",
       "      <td>10</td>\n",
       "    </tr>\n",
       "    <tr>\n",
       "      <th>SPRINT</th>\n",
       "      <td>10</td>\n",
       "    </tr>\n",
       "    <tr>\n",
       "      <th>Verizon Wireless</th>\n",
       "      <td>10</td>\n",
       "    </tr>\n",
       "    <tr>\n",
       "      <th>THE BLUE KANGAROO</th>\n",
       "      <td>10</td>\n",
       "    </tr>\n",
       "    <tr>\n",
       "      <th>NOVACARE REHABILITATION</th>\n",
       "      <td>10</td>\n",
       "    </tr>\n",
       "  </tbody>\n",
       "</table>\n",
       "</div>"
      ],
      "text/plain": [
       "                                      count_of_records\n",
       "doing_business_as_name                                \n",
       "FEDEX OFFICE AND PRINT SVCS, INC.     58              \n",
       "T-MOBILE                              48              \n",
       "PUBLIC STORAGE                        40              \n",
       "ENTERPRISE RENT-A-CAR                 37              \n",
       "HUDSON NEWS                           31              \n",
       "Innovative FOTO                       29              \n",
       "PSAV Presentation Services            24              \n",
       "TELEPORT COMMUNICATIONS AMERICA, LLC  24              \n",
       "THE UPS STORE                         22              \n",
       "VERIZON BUSINESS SERVICES             19              \n",
       "THE HERTZ CORPORATION                 18              \n",
       "REGUS MANAGEMENT GROUP LLC.           17              \n",
       "COUNTRY FINANCIAL                     17              \n",
       "PAYLESS SHOE SOURCE                   17              \n",
       "BOOST MOBILE                          17              \n",
       "XEROX CORPORATION                     16              \n",
       "VERIZON WIRELESS                      15              \n",
       "SHOE HOSPITAL, INC.                   14              \n",
       "ONEMAIN FINANCIAL OF ILLINOIS, INC.   14              \n",
       "CLARK STREET SPORTS                   12              \n",
       "UNIQUE THRIFT STORE                   12              \n",
       "VILLAGE DISCOUNT OUTLET INC           12              \n",
       "Encore Event Technologies, Inc        12              \n",
       "IRON MOUNTAIN RECORDS MANAGEMENT      12              \n",
       "T-MOBILE LIMITED                      12              \n",
       "ENTERPRISE RENT A CAR                 11              \n",
       "AT&T MOBILITY - PCS                   11              \n",
       "CITY SPORTS                           10              \n",
       "VILLA JOIN THE MOVEMENT               10              \n",
       "QWEST COMMUNICATIONS COMPANY, LLC     10              \n",
       "US MESSENGER                          10              \n",
       "ILLINOIS TITLE LOANS                  10              \n",
       "U.S. MESSENGER                        10              \n",
       "WILLIAMS LEA INC.                     10              \n",
       "SPRINT                                10              \n",
       "Verizon Wireless                      10              \n",
       "THE BLUE KANGAROO                     10              \n",
       "NOVACARE REHABILITATION               10              "
      ]
     },
     "execution_count": 129,
     "metadata": {},
     "output_type": "execute_result"
    }
   ],
   "source": [
    "dbas_with_null_bus_act.loc[dbas_with_null_bus_act.count_of_records >= 10]"
   ]
  },
  {
   "cell_type": "markdown",
   "metadata": {},
   "source": [
    "### Temporary Licenses\n",
    "Temporary or pop-up businesses licenses are issued for events such as street fairs or non-profit raffles. They are not permanent businesses, but may have an impact on business success. As such, the number and types of these licenses issued will be a feature of my final dataset. "
   ]
  },
  {
   "cell_type": "code",
   "execution_count": 121,
   "metadata": {},
   "outputs": [
    {
     "data": {
      "text/plain": [
       "810"
      ]
     },
     "execution_count": 121,
     "metadata": {},
     "output_type": "execute_result"
    }
   ],
   "source": [
    "# Number of pop-up license records.\n",
    "chicago_only_df.id.loc[(chicago_only_df['license_description'] == 'Pop-Up Retail User') | \n",
    "                    (chicago_only_df['license_description'] == 'Pop-Up Food Est. User - Tier II')].count()"
   ]
  },
  {
   "cell_type": "code",
   "execution_count": 110,
   "metadata": {},
   "outputs": [
    {
     "data": {
      "text/html": [
       "<div>\n",
       "<style scoped>\n",
       "    .dataframe tbody tr th:only-of-type {\n",
       "        vertical-align: middle;\n",
       "    }\n",
       "\n",
       "    .dataframe tbody tr th {\n",
       "        vertical-align: top;\n",
       "    }\n",
       "\n",
       "    .dataframe thead th {\n",
       "        text-align: right;\n",
       "    }\n",
       "</style>\n",
       "<table border=\"1\" class=\"dataframe\">\n",
       "  <thead>\n",
       "    <tr style=\"text-align: right;\">\n",
       "      <th></th>\n",
       "      <th>license_description</th>\n",
       "      <th>business_activity</th>\n",
       "    </tr>\n",
       "  </thead>\n",
       "  <tbody>\n",
       "    <tr>\n",
       "      <th>91324</th>\n",
       "      <td>Pop-Up Retail User</td>\n",
       "      <td>Organizer of Vendors That Sell for Retail at a Trade Show, Exhibition or Convention</td>\n",
       "    </tr>\n",
       "    <tr>\n",
       "      <th>91327</th>\n",
       "      <td>Pop-Up Retail User</td>\n",
       "      <td>Sale of General Merchandise, Seasonal Items</td>\n",
       "    </tr>\n",
       "    <tr>\n",
       "      <th>92431</th>\n",
       "      <td>Pop-Up Retail User</td>\n",
       "      <td>181-365 Day Pop-Up Retail User, Sale of General Merchandise/Seasonal Items</td>\n",
       "    </tr>\n",
       "    <tr>\n",
       "      <th>92530</th>\n",
       "      <td>Pop-Up Retail User</td>\n",
       "      <td>1-90 Day Pop-Up Retail User, Sale of General Merchandise/Seasonal Items</td>\n",
       "    </tr>\n",
       "    <tr>\n",
       "      <th>92868</th>\n",
       "      <td>Pop-Up Food Est. User - Tier II</td>\n",
       "      <td>90 Day Pop-Up Food Est. User - Tier II (Sale of Pre-Packaged, Prepared Hot/Cold Food, Final Prep On-Site)</td>\n",
       "    </tr>\n",
       "    <tr>\n",
       "      <th>92905</th>\n",
       "      <td>Pop-Up Retail User</td>\n",
       "      <td>Organizer of a 1-5 Day Event w/ Pop-Up Retail Users at a Trade Show, Exhibition or Convention</td>\n",
       "    </tr>\n",
       "    <tr>\n",
       "      <th>93079</th>\n",
       "      <td>Pop-Up Retail User</td>\n",
       "      <td>1-5 Day Pop-Up Retail User, Sale of General Merchandise/Seasonal Items</td>\n",
       "    </tr>\n",
       "  </tbody>\n",
       "</table>\n",
       "</div>"
      ],
      "text/plain": [
       "                   license_description  \\\n",
       "91324  Pop-Up Retail User                \n",
       "91327  Pop-Up Retail User                \n",
       "92431  Pop-Up Retail User                \n",
       "92530  Pop-Up Retail User                \n",
       "92868  Pop-Up Food Est. User - Tier II   \n",
       "92905  Pop-Up Retail User                \n",
       "93079  Pop-Up Retail User                \n",
       "\n",
       "                                                                                               business_activity  \n",
       "91324  Organizer of Vendors That Sell for Retail at a Trade Show, Exhibition or Convention                        \n",
       "91327  Sale of General Merchandise, Seasonal Items                                                                \n",
       "92431  181-365 Day Pop-Up Retail User, Sale of General Merchandise/Seasonal Items                                 \n",
       "92530  1-90 Day Pop-Up Retail User, Sale of General Merchandise/Seasonal Items                                    \n",
       "92868  90 Day Pop-Up Food Est. User - Tier II (Sale of Pre-Packaged, Prepared Hot/Cold Food, Final Prep On-Site)  \n",
       "92905  Organizer of a 1-5 Day Event w/ Pop-Up Retail Users at a Trade Show, Exhibition or Convention              \n",
       "93079  1-5 Day Pop-Up Retail User, Sale of General Merchandise/Seasonal Items                                     "
      ]
     },
     "execution_count": 110,
     "metadata": {},
     "output_type": "execute_result"
    }
   ],
   "source": [
    "pd.set_option('display.max_colwidth', -1)\n",
    "chicago_only_df[['license_description', 'business_activity']].\\\n",
    "loc[(df['license_description'] == 'Pop-Up Retail User') | \\\n",
    "    (df['license_description'] == 'Pop-Up Food Est. User - Tier II')].drop_duplicates()"
   ]
  },
  {
   "cell_type": "code",
   "execution_count": null,
   "metadata": {},
   "outputs": [],
   "source": []
  },
  {
   "cell_type": "code",
   "execution_count": null,
   "metadata": {},
   "outputs": [],
   "source": [
    "# todo\n",
    "    #  Exclude airport locations\n",
    "    # get list of distinct business activities"
   ]
  },
  {
   "cell_type": "code",
   "execution_count": null,
   "metadata": {},
   "outputs": [],
   "source": []
  },
  {
   "cell_type": "code",
   "execution_count": null,
   "metadata": {},
   "outputs": [],
   "source": []
  },
  {
   "cell_type": "code",
   "execution_count": null,
   "metadata": {},
   "outputs": [],
   "source": []
  },
  {
   "cell_type": "markdown",
   "metadata": {},
   "source": []
  },
  {
   "cell_type": "code",
   "execution_count": null,
   "metadata": {},
   "outputs": [],
   "source": []
  },
  {
   "cell_type": "code",
   "execution_count": null,
   "metadata": {},
   "outputs": [],
   "source": []
  }
 ],
 "metadata": {
  "kernelspec": {
   "display_name": "Python 3",
   "language": "python",
   "name": "python3"
  },
  "language_info": {
   "codemirror_mode": {
    "name": "ipython",
    "version": 3
   },
   "file_extension": ".py",
   "mimetype": "text/x-python",
   "name": "python",
   "nbconvert_exporter": "python",
   "pygments_lexer": "ipython3",
   "version": "3.6.8"
  }
 },
 "nbformat": 4,
 "nbformat_minor": 2
}
